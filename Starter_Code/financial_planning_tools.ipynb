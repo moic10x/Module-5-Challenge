{
 "cells": [
  {
   "cell_type": "markdown",
   "metadata": {},
   "source": [
    "# Financial Planning with APIs and Simulations\n",
    "\n",
    "In this Challenge, you’ll create two financial analysis tools by using a single Jupyter notebook:\n",
    "\n",
    "Part 1: A financial planner for emergencies. The members will be able to use this tool to visualize their current savings. The members can then determine if they have enough reserves for an emergency fund.\n",
    "\n",
    "Part 2: A financial planner for retirement. This tool will forecast the performance of their retirement portfolio in 30 years. To do this, the tool will make an Alpaca API call via the Alpaca SDK to get historical price data for use in Monte Carlo simulations.\n",
    "\n",
    "You’ll use the information from the Monte Carlo simulation to answer questions about the portfolio in your Jupyter notebook.\n",
    "\n"
   ]
  },
  {
   "cell_type": "code",
   "execution_count": 1,
   "metadata": {},
   "outputs": [],
   "source": [
    "# Import the required libraries and dependencies\n",
    "import os\n",
    "import requests\n",
    "import json\n",
    "import pandas as pd\n",
    "from dotenv import load_dotenv\n",
    "import alpaca_trade_api as tradeapi\n",
    "from MCForecastTools import MCSimulation\n",
    "\n",
    "%matplotlib inline\n",
    "import warnings\n",
    "warnings.filterwarnings('ignore')"
   ]
  },
  {
   "cell_type": "code",
   "execution_count": 2,
   "metadata": {},
   "outputs": [
    {
     "data": {
      "text/plain": [
       "True"
      ]
     },
     "execution_count": 2,
     "metadata": {},
     "output_type": "execute_result"
    }
   ],
   "source": [
    "# Load the environment variables from the .env file\n",
    "#by calling the load_dotenv function\n",
    "load_dotenv()"
   ]
  },
  {
   "cell_type": "markdown",
   "metadata": {},
   "source": [
    "## Part 1: Create a Financial Planner for Emergencies"
   ]
  },
  {
   "cell_type": "markdown",
   "metadata": {},
   "source": [
    "### Evaluate the Cryptocurrency Wallet by Using the Requests Library\n",
    "\n",
    "In this section, you’ll determine the current value of a member’s cryptocurrency wallet. You’ll collect the current prices for the Bitcoin and Ethereum cryptocurrencies by using the Python Requests library. For the prototype, you’ll assume that the member holds the 1.2 Bitcoins (BTC) and 5.3 Ethereum coins (ETH). To do all this, complete the following steps:\n",
    "\n",
    "1. Create a variable named `monthly_income`, and set its value to `12000`.\n",
    "\n",
    "2. Use the Requests library to get the current price (in US dollars) of Bitcoin (BTC) and Ethereum (ETH) by using the API endpoints that the starter code supplies.\n",
    "\n",
    "3. Navigate the JSON response object to access the current price of each coin, and store each in a variable.\n",
    "\n",
    "    > **Hint** Note the specific identifier for each cryptocurrency in the API JSON response. The Bitcoin identifier is `1`, and the Ethereum identifier is `1027`.\n",
    "\n",
    "4. Calculate the value, in US dollars, of the current amount of each cryptocurrency and of the entire cryptocurrency wallet.\n",
    "\n"
   ]
  },
  {
   "cell_type": "code",
   "execution_count": 3,
   "metadata": {},
   "outputs": [],
   "source": [
    "# The current number of coins for each cryptocurrency asset held in the portfolio.\n",
    "btc_coins = 1.2\n",
    "eth_coins = 5.3"
   ]
  },
  {
   "cell_type": "markdown",
   "metadata": {},
   "source": [
    "#### Step 1: Create a variable named `monthly_income`, and set its value to `12000`."
   ]
  },
  {
   "cell_type": "code",
   "execution_count": 4,
   "metadata": {},
   "outputs": [],
   "source": [
    "# The monthly amount for the member's household income\n",
    "# YOUR CODE HERE\n",
    "monthly_income = 12000"
   ]
  },
  {
   "cell_type": "markdown",
   "metadata": {},
   "source": [
    "#### Review the endpoint URLs for the API calls to Free Crypto API in order to get the current pricing information for both BTC and ETH."
   ]
  },
  {
   "cell_type": "code",
   "execution_count": 5,
   "metadata": {},
   "outputs": [],
   "source": [
    "# The Free Crypto API Call endpoint URLs for the held cryptocurrency assets\n",
    "btc_url = \"https://api.alternative.me/v2/ticker/Bitcoin/?convert=USD\"\n",
    "eth_url = \"https://api.alternative.me/v2/ticker/Ethereum/?convert=USD\""
   ]
  },
  {
   "cell_type": "markdown",
   "metadata": {},
   "source": [
    "#### Step 2. Use the Requests library to get the current price (in US dollars) of Bitcoin (BTC) and Ethereum (ETH) by using the API endpoints that the starter code supplied."
   ]
  },
  {
   "cell_type": "code",
   "execution_count": 6,
   "metadata": {},
   "outputs": [
    {
     "name": "stdout",
     "output_type": "stream",
     "text": [
      "{\n",
      "    \"data\": {\n",
      "        \"1\": {\n",
      "            \"circulating_supply\": 19461537,\n",
      "            \"id\": 1,\n",
      "            \"last_updated\": 1692421181,\n",
      "            \"max_supply\": 21000000,\n",
      "            \"name\": \"Bitcoin\",\n",
      "            \"quotes\": {\n",
      "                \"USD\": {\n",
      "                    \"market_cap\": 505973525238,\n",
      "                    \"percent_change_1h\": 0.134773361794383,\n",
      "                    \"percent_change_24h\": -1.1049127303294,\n",
      "                    \"percent_change_7d\": -11.5510875154713,\n",
      "                    \"percentage_change_1h\": 0.134773361794383,\n",
      "                    \"percentage_change_24h\": -1.1049127303294,\n",
      "                    \"percentage_change_7d\": -11.5510875154713,\n",
      "                    \"price\": 25981.0,\n",
      "                    \"volume_24h\": 20683762241\n",
      "                }\n",
      "            },\n",
      "            \"rank\": 1,\n",
      "            \"symbol\": \"BTC\",\n",
      "            \"total_supply\": 19461537,\n",
      "            \"website_slug\": \"bitcoin\"\n",
      "        }\n",
      "    },\n",
      "    \"metadata\": {\n",
      "        \"error\": null,\n",
      "        \"num_cryptocurrencies\": 3119,\n",
      "        \"timestamp\": 1692421181\n",
      "    }\n",
      "}\n"
     ]
    }
   ],
   "source": [
    "# Using the Python requests library, make an API call to access the current price of BTC\n",
    "btc_response = requests.get(btc_url).json()\n",
    "\n",
    "# Use the json.dumps function to review the response data from the API call\n",
    "# Use the indent and sort_keys parameters to make the response object readable\n",
    "# YOUR CODE HERE\n",
    "print(json.dumps(btc_response, indent=4, sort_keys=True))"
   ]
  },
  {
   "cell_type": "code",
   "execution_count": 7,
   "metadata": {},
   "outputs": [
    {
     "name": "stdout",
     "output_type": "stream",
     "text": [
      "{\n",
      "    \"data\": {\n",
      "        \"1027\": {\n",
      "            \"circulating_supply\": 120210036,\n",
      "            \"id\": 1027,\n",
      "            \"last_updated\": 1692421191,\n",
      "            \"max_supply\": 120210036,\n",
      "            \"name\": \"Ethereum\",\n",
      "            \"quotes\": {\n",
      "                \"USD\": {\n",
      "                    \"market_cap\": 199889467540,\n",
      "                    \"percent_change_1h\": 0.196000484515328,\n",
      "                    \"percent_change_24h\": -0.400896714530785,\n",
      "                    \"percent_change_7d\": -10.0281024855019,\n",
      "                    \"percentage_change_1h\": 0.196000484515328,\n",
      "                    \"percentage_change_24h\": -0.400896714530785,\n",
      "                    \"percentage_change_7d\": -10.0281024855019,\n",
      "                    \"price\": 1661.92,\n",
      "                    \"volume_24h\": 11722061543\n",
      "                }\n",
      "            },\n",
      "            \"rank\": 2,\n",
      "            \"symbol\": \"ETH\",\n",
      "            \"total_supply\": 120210036,\n",
      "            \"website_slug\": \"ethereum\"\n",
      "        }\n",
      "    },\n",
      "    \"metadata\": {\n",
      "        \"error\": null,\n",
      "        \"num_cryptocurrencies\": 3119,\n",
      "        \"timestamp\": 1692421191\n",
      "    }\n",
      "}\n"
     ]
    }
   ],
   "source": [
    "# Using the Python requests library, make an API call to access the current price ETH\n",
    "eth_response = requests.get(eth_url).json()\n",
    "\n",
    "# Use the json.dumps function to review the response data from the API call\n",
    "# Use the indent and sort_keys parameters to make the response object readable\n",
    "# YOUR CODE HERE\n",
    "print(json.dumps(eth_response, indent = 4, sort_keys=True))"
   ]
  },
  {
   "cell_type": "markdown",
   "metadata": {},
   "source": [
    "#### Step 3: Navigate the JSON response object to access the current price of each coin, and store each in a variable."
   ]
  },
  {
   "cell_type": "code",
   "execution_count": 8,
   "metadata": {},
   "outputs": [
    {
     "data": {
      "text/plain": [
       "25981.0"
      ]
     },
     "execution_count": 8,
     "metadata": {},
     "output_type": "execute_result"
    }
   ],
   "source": [
    "# Navigate the BTC response object to access the current price of BTC\n",
    "btc_price = btc_response[\"data\"][\"1\"][\"quotes\"][\"USD\"][\"price\"]\n",
    "\n",
    "# Print the current price of BTC\n",
    "# YOUR CODE HERE\n",
    "btc_price"
   ]
  },
  {
   "cell_type": "code",
   "execution_count": 9,
   "metadata": {},
   "outputs": [
    {
     "data": {
      "text/plain": [
       "1661.92"
      ]
     },
     "execution_count": 9,
     "metadata": {},
     "output_type": "execute_result"
    }
   ],
   "source": [
    "# Navigate the BTC response object to access the current price of ETH\n",
    "eth_price = eth_response[\"data\"][\"1027\"][\"quotes\"][\"USD\"][\"price\"]\n",
    "\n",
    "# Print the current price of ETH\n",
    "# YOUR CODE HERE\n",
    "eth_price"
   ]
  },
  {
   "cell_type": "markdown",
   "metadata": {},
   "source": [
    "### Step 4: Calculate the value, in US dollars, of the current amount of each cryptocurrency and of the entire cryptocurrency wallet."
   ]
  },
  {
   "cell_type": "code",
   "execution_count": 10,
   "metadata": {},
   "outputs": [
    {
     "data": {
      "text/plain": [
       "31177.199999999997"
      ]
     },
     "execution_count": 10,
     "metadata": {},
     "output_type": "execute_result"
    }
   ],
   "source": [
    "# Compute the current value of the BTC holding \n",
    "btc_value = btc_coins*btc_price\n",
    "\n",
    "# Print current value of your holding in BTC\n",
    "# YOUR CODE HERE\n",
    "btc_value"
   ]
  },
  {
   "cell_type": "code",
   "execution_count": 11,
   "metadata": {},
   "outputs": [
    {
     "data": {
      "text/plain": [
       "8808.176"
      ]
     },
     "execution_count": 11,
     "metadata": {},
     "output_type": "execute_result"
    }
   ],
   "source": [
    "# Compute the current value of the ETH holding \n",
    "eth_value = eth_coins*eth_price\n",
    "\n",
    "# Print current value of your holding in ETH\n",
    "# YOUR CODE HERE\n",
    "eth_value"
   ]
  },
  {
   "cell_type": "code",
   "execution_count": 12,
   "metadata": {},
   "outputs": [
    {
     "data": {
      "text/plain": [
       "39985.376"
      ]
     },
     "execution_count": 12,
     "metadata": {},
     "output_type": "execute_result"
    }
   ],
   "source": [
    "# Compute the total value of the cryptocurrency wallet\n",
    "# Add the value of the BTC holding to the value of the ETH holding\n",
    "total_crypto_wallet = btc_value + eth_value\n",
    "\n",
    "# Print current cryptocurrency wallet balance\n",
    "# YOUR CODE HERE\n",
    "total_crypto_wallet"
   ]
  },
  {
   "cell_type": "markdown",
   "metadata": {},
   "source": [
    "### Evaluate the Stock and Bond Holdings by Using the Alpaca SDK\n",
    "\n",
    "In this section, you’ll determine the current value of a member’s stock and bond holdings. You’ll make an API call to Alpaca via the Alpaca SDK to get the current closing prices of the SPDR S&P 500 ETF Trust (ticker: SPY) and of the iShares Core US Aggregate Bond ETF (ticker: AGG). For the prototype, assume that the member holds 110 shares of SPY, which represents the stock portion of their portfolio, and 200 shares of AGG, which represents the bond portion. To do all this, complete the following steps:\n",
    "\n",
    "1. In the `Starter_Code` folder, create an environment file (`.env`) to store the values of your Alpaca API key and Alpaca secret key.\n",
    "\n",
    "2. Set the variables for the Alpaca API and secret keys. Using the Alpaca SDK, create the Alpaca `tradeapi.REST` object. In this object, include the parameters for the Alpaca API key, the secret key, and the version number.\n",
    "\n",
    "3. Set the following parameters for the Alpaca API call:\n",
    "\n",
    "    - `tickers`: Use the tickers for the member’s stock and bond holdings.\n",
    "\n",
    "    - `timeframe`: Use a time frame of one day.\n",
    "\n",
    "    - `start_date` and `end_date`: Use the same date for these parameters, and format them with the date of the previous weekday (or `2020-08-07`). This is because you want the one closing price for the most-recent trading day.\n",
    "\n",
    "4. Get the current closing prices for `SPY` and `AGG` by using the Alpaca `get_bars` function. Format the response as a Pandas DataFrame by including the `df` property at the end of the `get_bars` function.\n",
    "\n",
    "5. Navigating the Alpaca response DataFrame, select the `SPY` and `AGG` closing prices, and store them as variables.\n",
    "\n",
    "6. Calculate the value, in US dollars, of the current amount of shares in each of the stock and bond portions of the portfolio, and print the results.\n"
   ]
  },
  {
   "cell_type": "markdown",
   "metadata": {},
   "source": [
    "#### Review the total number of shares held in both (SPY) and (AGG)."
   ]
  },
  {
   "cell_type": "code",
   "execution_count": 13,
   "metadata": {},
   "outputs": [],
   "source": [
    "# Current amount of shares held in both the stock (SPY) and bond (AGG) portion of the portfolio.\n",
    "spy_shares = 110\n",
    "agg_shares = 200\n"
   ]
  },
  {
   "cell_type": "markdown",
   "metadata": {},
   "source": [
    "#### Step 1: In the `Starter_Code` folder, create an environment file (`.env`) to store the values of your Alpaca API key and Alpaca secret key."
   ]
  },
  {
   "cell_type": "markdown",
   "metadata": {},
   "source": [
    "#### Step 2: Set the variables for the Alpaca API and secret keys. Using the Alpaca SDK, create the Alpaca `tradeapi.REST` object. In this object, include the parameters for the Alpaca API key, the secret key, and the version number."
   ]
  },
  {
   "cell_type": "code",
   "execution_count": 14,
   "metadata": {},
   "outputs": [],
   "source": [
    "# Set the variables for the Alpaca API and secret keys\n",
    "alpaca_api_key = os.getenv(\"ALPACA_API_KEY\")\n",
    "alpaca_secret_key = os.getenv(\"ALPACA_SECRET_KEY\")\n",
    "# Create the Alpaca tradeapi.REST object\n",
    "# YOUR CODE HERE\n",
    "alpaca = tradeapi.REST(\n",
    "    alpaca_api_key,\n",
    "    alpaca_secret_key,\n",
    "    api_version = \"v2\")"
   ]
  },
  {
   "cell_type": "markdown",
   "metadata": {},
   "source": [
    "#### Step 3: Set the following parameters for the Alpaca API call:\n",
    "\n",
    "- `tickers`: Use the tickers for the member’s stock and bond holdings.\n",
    "\n",
    "- `timeframe`: Use a time frame of one day.\n",
    "\n",
    "- `start_date` and `end_date`: Use the same date for these parameters, and format them with the date of the previous weekday (or `2020-08-07`). This is because you want the one closing price for the most-recent trading day.\n"
   ]
  },
  {
   "cell_type": "code",
   "execution_count": 15,
   "metadata": {},
   "outputs": [],
   "source": [
    "# Set the tickers for both the bond and stock portion of the portfolio\n",
    "# YOUR CODE HERE\n",
    "tickers = [\"SPY\", \"AGG\"]\n",
    "# Set timeframe to 1Day\n",
    "# YOUR CODE HERE\n",
    "timeframe = \"1Day\"\n",
    "# Format current date as ISO format\n",
    "# Set both the start and end date at the date of your prior weekday \n",
    "# This will give you the closing price of the previous trading day\n",
    "# Alternatively you can use a start and end date of 2020-08-07\n",
    "# YOUR CODE HERE\n",
    "# YOUR CODE HERE\n",
    "start_date = pd.Timestamp(\"2023-08-18\", tz=\"America/New_York\").isoformat()\n",
    "end_date = pd.Timestamp(\"2023-08-18\", tz=\"America/New_York\").isoformat()"
   ]
  },
  {
   "cell_type": "markdown",
   "metadata": {},
   "source": [
    "#### Step 4: Get the current closing prices for `SPY` and `AGG` by using the Alpaca `get_bars` function. Format the response as a Pandas DataFrame by including the `df` property at the end of the `get_bars` function."
   ]
  },
  {
   "cell_type": "code",
   "execution_count": 16,
   "metadata": {},
   "outputs": [
    {
     "data": {
      "text/html": [
       "<div>\n",
       "<style scoped>\n",
       "    .dataframe tbody tr th:only-of-type {\n",
       "        vertical-align: middle;\n",
       "    }\n",
       "\n",
       "    .dataframe tbody tr th {\n",
       "        vertical-align: top;\n",
       "    }\n",
       "\n",
       "    .dataframe thead tr th {\n",
       "        text-align: left;\n",
       "    }\n",
       "\n",
       "    .dataframe thead tr:last-of-type th {\n",
       "        text-align: right;\n",
       "    }\n",
       "</style>\n",
       "<table border=\"1\" class=\"dataframe\">\n",
       "  <thead>\n",
       "    <tr>\n",
       "      <th></th>\n",
       "      <th colspan=\"7\" halign=\"left\">SPY</th>\n",
       "      <th colspan=\"7\" halign=\"left\">AGG</th>\n",
       "    </tr>\n",
       "    <tr>\n",
       "      <th></th>\n",
       "      <th>open</th>\n",
       "      <th>high</th>\n",
       "      <th>low</th>\n",
       "      <th>close</th>\n",
       "      <th>volume</th>\n",
       "      <th>trade_count</th>\n",
       "      <th>vwap</th>\n",
       "      <th>open</th>\n",
       "      <th>high</th>\n",
       "      <th>low</th>\n",
       "      <th>close</th>\n",
       "      <th>volume</th>\n",
       "      <th>trade_count</th>\n",
       "      <th>vwap</th>\n",
       "    </tr>\n",
       "    <tr>\n",
       "      <th>timestamp</th>\n",
       "      <th></th>\n",
       "      <th></th>\n",
       "      <th></th>\n",
       "      <th></th>\n",
       "      <th></th>\n",
       "      <th></th>\n",
       "      <th></th>\n",
       "      <th></th>\n",
       "      <th></th>\n",
       "      <th></th>\n",
       "      <th></th>\n",
       "      <th></th>\n",
       "      <th></th>\n",
       "      <th></th>\n",
       "    </tr>\n",
       "  </thead>\n",
       "  <tbody>\n",
       "    <tr>\n",
       "      <th>2023-08-18 04:00:00+00:00</th>\n",
       "      <td>433.37</td>\n",
       "      <td>437.57</td>\n",
       "      <td>433.01</td>\n",
       "      <td>436.5</td>\n",
       "      <td>98435786</td>\n",
       "      <td>632838</td>\n",
       "      <td>435.554075</td>\n",
       "      <td>95.47</td>\n",
       "      <td>95.7475</td>\n",
       "      <td>95.43</td>\n",
       "      <td>95.62</td>\n",
       "      <td>6022506</td>\n",
       "      <td>22599</td>\n",
       "      <td>95.641482</td>\n",
       "    </tr>\n",
       "  </tbody>\n",
       "</table>\n",
       "</div>"
      ],
      "text/plain": [
       "                              SPY                                   \\\n",
       "                             open    high     low  close    volume   \n",
       "timestamp                                                            \n",
       "2023-08-18 04:00:00+00:00  433.37  437.57  433.01  436.5  98435786   \n",
       "\n",
       "                                                     AGG                  \\\n",
       "                          trade_count        vwap   open     high    low   \n",
       "timestamp                                                                  \n",
       "2023-08-18 04:00:00+00:00      632838  435.554075  95.47  95.7475  95.43   \n",
       "\n",
       "                                                                  \n",
       "                           close   volume trade_count       vwap  \n",
       "timestamp                                                         \n",
       "2023-08-18 04:00:00+00:00  95.62  6022506       22599  95.641482  "
      ]
     },
     "execution_count": 16,
     "metadata": {},
     "output_type": "execute_result"
    }
   ],
   "source": [
    "# Use the Alpaca get_bars function to get current closing prices the portfolio\n",
    "# Be sure to set the `df` property after the function to format the response object as a DataFrame\n",
    "# YOUR CODE HERE\n",
    "prices_df = alpaca.get_bars(\n",
    "    tickers,\n",
    "    timeframe,\n",
    "    start = start_date,\n",
    "    end= end_date).df\n",
    "# Reorganize the DataFrame\n",
    "# Separate ticker data\n",
    "# YOUR CODE HERE\n",
    "spy = prices_df[prices_df[\"symbol\"] == \"SPY\"].drop(\"symbol\", axis = 1)\n",
    "agg = prices_df[prices_df[\"symbol\"] == \"AGG\"].drop(\"symbol\", axis = 1)\n",
    "# Concatenate the ticker DataFrames\n",
    "# YOUR CODE HERE\n",
    "prices_df = pd.concat([spy,agg], keys=[\"SPY\",\"AGG\"], axis = 1)\n",
    "# Review the first 5 rows of the Alpaca DataFrame\n",
    "# YOUR CODE HERE\n",
    "prices_df.head()"
   ]
  },
  {
   "cell_type": "markdown",
   "metadata": {},
   "source": [
    "#### Step 5: Navigating the Alpaca response DataFrame, select the `SPY` and `AGG` closing prices, and store them as variables."
   ]
  },
  {
   "cell_type": "code",
   "execution_count": 17,
   "metadata": {},
   "outputs": [
    {
     "data": {
      "text/plain": [
       "95.62"
      ]
     },
     "execution_count": 17,
     "metadata": {},
     "output_type": "execute_result"
    }
   ],
   "source": [
    "# Access the closing price for AGG from the Alpaca DataFrame\n",
    "# Converting the value to a floating point number\n",
    "agg_close_price = float(prices_df[\"AGG\"][\"close\"])\n",
    "\n",
    "# Print the AGG closing price\n",
    "# YOUR CODE HERE\n",
    "agg_close_price"
   ]
  },
  {
   "cell_type": "code",
   "execution_count": 18,
   "metadata": {},
   "outputs": [
    {
     "data": {
      "text/plain": [
       "436.5"
      ]
     },
     "execution_count": 18,
     "metadata": {},
     "output_type": "execute_result"
    }
   ],
   "source": [
    "# Access the closing price for SPY from the Alpaca DataFrame\n",
    "# Converting the value to a floating point number\n",
    "spy_close_price = float(prices_df[\"SPY\"][\"close\"])\n",
    "\n",
    "# Print the SPY closing price\n",
    "# YOUR CODE HERE\n",
    "spy_close_price"
   ]
  },
  {
   "cell_type": "markdown",
   "metadata": {},
   "source": [
    "#### Step 6: Calculate the value, in US dollars, of the current amount of shares in each of the stock and bond portions of the portfolio, and print the results."
   ]
  },
  {
   "cell_type": "code",
   "execution_count": 19,
   "metadata": {},
   "outputs": [
    {
     "data": {
      "text/plain": [
       "19124.0"
      ]
     },
     "execution_count": 19,
     "metadata": {},
     "output_type": "execute_result"
    }
   ],
   "source": [
    "# Calculate the current value of the bond portion of the portfolio\n",
    "agg_value = agg_shares * agg_close_price\n",
    "\n",
    "# Print the current value of the bond portfolio\n",
    "# YOUR CODE HERE\n",
    "agg_value"
   ]
  },
  {
   "cell_type": "code",
   "execution_count": 20,
   "metadata": {},
   "outputs": [
    {
     "data": {
      "text/plain": [
       "48015.0"
      ]
     },
     "execution_count": 20,
     "metadata": {},
     "output_type": "execute_result"
    }
   ],
   "source": [
    "# Calculate the current value of the stock portion of the portfolio\n",
    "spy_value = spy_shares * spy_close_price\n",
    "\n",
    "# Print the current value of the stock portfolio\n",
    "# YOUR CODE HERE\n",
    "spy_value"
   ]
  },
  {
   "cell_type": "code",
   "execution_count": 21,
   "metadata": {},
   "outputs": [
    {
     "data": {
      "text/plain": [
       "67139.0"
      ]
     },
     "execution_count": 21,
     "metadata": {},
     "output_type": "execute_result"
    }
   ],
   "source": [
    "# Calculate the total value of the stock and bond portion of the portfolio\n",
    "total_stocks_bonds = spy_value + agg_value\n",
    "\n",
    "# Print the current balance of the stock and bond portion of the portfolio\n",
    "# YOUR CODE HERE\n",
    "total_stocks_bonds"
   ]
  },
  {
   "cell_type": "code",
   "execution_count": 22,
   "metadata": {},
   "outputs": [
    {
     "data": {
      "text/plain": [
       "107124.37599999999"
      ]
     },
     "execution_count": 22,
     "metadata": {},
     "output_type": "execute_result"
    }
   ],
   "source": [
    "# Calculate the total value of the member's entire savings portfolio\n",
    "# Add the value of the cryptocurrency walled to the value of the total stocks and bonds\n",
    "total_portfolio = total_crypto_wallet + total_stocks_bonds\n",
    "\n",
    "# Print current entire savings portfolio balance\n",
    "# YOUR CODE HERE\n",
    "total_portfolio"
   ]
  },
  {
   "cell_type": "markdown",
   "metadata": {},
   "source": [
    "### Evaluate the Emergency Fund\n",
    "\n",
    "In this section, you’ll use the valuations for the cryptocurrency wallet and for the stock and bond portions of the portfolio to determine if the credit union member has enough savings to build an emergency fund into their financial plan. To do this, complete the following steps:\n",
    "\n",
    "1. Create a Python list named `savings_data` that has two elements. The first element contains the total value of the cryptocurrency wallet. The second element contains the total value of the stock and bond portions of the portfolio.\n",
    "\n",
    "2. Use the `savings_data` list to create a Pandas DataFrame named `savings_df`, and then display this DataFrame. The function to create the DataFrame should take the following three parameters:\n",
    "\n",
    "    - `savings_data`: Use the list that you just created.\n",
    "\n",
    "    - `columns`: Set this parameter equal to a Python list with a single value called `amount`.\n",
    "\n",
    "    - `index`: Set this parameter equal to a Python list with the values of `crypto` and `stock/bond`.\n",
    "\n",
    "3. Use the `savings_df` DataFrame to plot a pie chart that visualizes the composition of the member’s portfolio. The y-axis of the pie chart uses `amount`. Be sure to add a title.\n",
    "\n",
    "4. Using Python, determine if the current portfolio has enough to create an emergency fund as part of the member’s financial plan. Ideally, an emergency fund should equal to three times the member’s monthly income. To do this, implement the following steps:\n",
    "\n",
    "    1. Create a variable named `emergency_fund_value`, and set it equal to three times the value of the member’s `monthly_income` of $12000. (You set this earlier in Part 1).\n",
    "\n",
    "    2. Create a series of three if statements to determine if the member’s total portfolio is large enough to fund the emergency portfolio:\n",
    "\n",
    "        1. If the total portfolio value is greater than the emergency fund value, display a message congratulating the member for having enough money in this fund.\n",
    "\n",
    "        2. Else if the total portfolio value is equal to the emergency fund value, display a message congratulating the member on reaching this important financial goal.\n",
    "\n",
    "        3. Else the total portfolio is less than the emergency fund value, so display a message showing how many dollars away the member is from reaching the goal. (Subtract the total portfolio value from the emergency fund value.)\n"
   ]
  },
  {
   "cell_type": "markdown",
   "metadata": {},
   "source": [
    "#### Step 1: Create a Python list named `savings_data` that has two elements. The first element contains the total value of the cryptocurrency wallet. The second element contains the total value of the stock and bond portions of the portfolio."
   ]
  },
  {
   "cell_type": "code",
   "execution_count": 23,
   "metadata": {},
   "outputs": [
    {
     "data": {
      "text/plain": [
       "[39985.376, 67139.0]"
      ]
     },
     "execution_count": 23,
     "metadata": {},
     "output_type": "execute_result"
    }
   ],
   "source": [
    "# Consolidate financial assets data into a Python list\n",
    "# YOUR CODE HERE\n",
    "savings_data = [total_crypto_wallet, total_stocks_bonds]\n",
    "# Review the Python list savings_data\n",
    "# YOUR CODE HERE\n",
    "savings_data"
   ]
  },
  {
   "cell_type": "markdown",
   "metadata": {},
   "source": [
    "#### Step 2: Use the `savings_data` list to create a Pandas DataFrame named `savings_df`, and then display this DataFrame. The function to create the DataFrame should take the following three parameters:\n",
    "\n",
    "- `savings_data`: Use the list that you just created.\n",
    "\n",
    "- `columns`: Set this parameter equal to a Python list with a single value called `amount`.\n",
    "\n",
    "- `index`: Set this parameter equal to a Python list with the values of `crypto` and `stock/bond`.\n"
   ]
  },
  {
   "cell_type": "code",
   "execution_count": 24,
   "metadata": {},
   "outputs": [
    {
     "data": {
      "text/html": [
       "<div>\n",
       "<style scoped>\n",
       "    .dataframe tbody tr th:only-of-type {\n",
       "        vertical-align: middle;\n",
       "    }\n",
       "\n",
       "    .dataframe tbody tr th {\n",
       "        vertical-align: top;\n",
       "    }\n",
       "\n",
       "    .dataframe thead th {\n",
       "        text-align: right;\n",
       "    }\n",
       "</style>\n",
       "<table border=\"1\" class=\"dataframe\">\n",
       "  <thead>\n",
       "    <tr style=\"text-align: right;\">\n",
       "      <th></th>\n",
       "      <th>amount</th>\n",
       "    </tr>\n",
       "  </thead>\n",
       "  <tbody>\n",
       "    <tr>\n",
       "      <th>crypto</th>\n",
       "      <td>39985.376</td>\n",
       "    </tr>\n",
       "    <tr>\n",
       "      <th>stock/bond</th>\n",
       "      <td>67139.000</td>\n",
       "    </tr>\n",
       "  </tbody>\n",
       "</table>\n",
       "</div>"
      ],
      "text/plain": [
       "               amount\n",
       "crypto      39985.376\n",
       "stock/bond  67139.000"
      ]
     },
     "execution_count": 24,
     "metadata": {},
     "output_type": "execute_result"
    }
   ],
   "source": [
    "# Create a Pandas DataFrame called savings_df \n",
    "# YOUR CODE HERE\n",
    "savings_df = pd.DataFrame(\n",
    "    savings_data,\n",
    "    columns = [\"amount\"],\n",
    "    index = [\"crypto\", \"stock/bond\"])\n",
    "# Display the savings_df DataFrame\n",
    "# YOUR CODE HERE\n",
    "savings_df"
   ]
  },
  {
   "cell_type": "markdown",
   "metadata": {},
   "source": [
    "#### Step 3: Use the `savings_df` DataFrame to plot a pie chart that visualizes the composition of the member’s portfolio. The y-axis of the pie chart uses `amount`. Be sure to add a title."
   ]
  },
  {
   "cell_type": "code",
   "execution_count": 25,
   "metadata": {},
   "outputs": [
    {
     "data": {
      "text/plain": [
       "<Axes: title={'center': 'Composition of Portfolio'}, ylabel='amount'>"
      ]
     },
     "execution_count": 25,
     "metadata": {},
     "output_type": "execute_result"
    },
    {
     "data": {
      "image/png": "[encoded data removed]",
      "text/plain": [
       "<Figure size 640x480 with 1 Axes>"
      ]
     },
     "metadata": {},
     "output_type": "display_data"
    }
   ],
   "source": [
    "# Plot the total value of the member's portfolio (crypto and stock/bond) in a pie chart\n",
    "# YOUR CODE HERE\n",
    "savings_df.plot.pie(y=\"amount\",\n",
    "                    title = \"Composition of Portfolio\")\n"
   ]
  },
  {
   "cell_type": "markdown",
   "metadata": {},
   "source": [
    "#### Step 4: Using Python, determine if the current portfolio has enough to create an emergency fund as part of the member’s financial plan. Ideally, an emergency fund should equal to three times the member’s monthly income. To do this, implement the following steps:\n",
    "\n",
    "Step 1. Create a variable named `emergency_fund_value`, and set it equal to three times the value of the member’s `monthly_income` of 12000. (You set this earlier in Part 1).\n",
    "\n",
    "Step 2. Create a series of three if statements to determine if the member’s total portfolio is large enough to fund the emergency portfolio:\n",
    "\n",
    "* If the total portfolio value is greater than the emergency fund value, display a message congratulating the member for having enough money in this fund.\n",
    "\n",
    "* Else if the total portfolio value is equal to the emergency fund value, display a message congratulating the member on reaching this important financial goal.\n",
    "\n",
    "* Else the total portfolio is less than the emergency fund value, so display a message showing how many dollars away the member is from reaching the goal. (Subtract the total portfolio value from the emergency fund value.)\n"
   ]
  },
  {
   "cell_type": "markdown",
   "metadata": {},
   "source": [
    "##### Step 4-1: Create a variable named `emergency_fund_value`, and set it equal to three times the value of the member’s `monthly_income` of 12000. (You set this earlier in Part 1)."
   ]
  },
  {
   "cell_type": "code",
   "execution_count": 26,
   "metadata": {},
   "outputs": [
    {
     "data": {
      "text/plain": [
       "36000"
      ]
     },
     "execution_count": 26,
     "metadata": {},
     "output_type": "execute_result"
    }
   ],
   "source": [
    "# Create a variable named emergency_fund_value\n",
    "# YOUR CODE HERE\n",
    "emergency_fund_value = monthly_income * 3\n",
    "\n",
    "emergency_fund_value"
   ]
  },
  {
   "cell_type": "markdown",
   "metadata": {},
   "source": [
    "##### Step 4-2: Create a series of three if statements to determine if the member’s total portfolio is large enough to fund the emergency portfolio:\n",
    "\n",
    "* If the total portfolio value is greater than the emergency fund value, display a message congratulating the member for having enough money in this fund.\n",
    "\n",
    "* Else if the total portfolio value is equal to the emergency fund value, display a message congratulating the member on reaching this important financial goal.\n",
    "\n",
    "* Else the total portfolio is less than the emergency fund value, so display a message showing how many dollars away the member is from reaching the goal. (Subtract the total portfolio value from the emergency fund value.)"
   ]
  },
  {
   "cell_type": "code",
   "execution_count": 27,
   "metadata": {},
   "outputs": [
    {
     "name": "stdout",
     "output_type": "stream",
     "text": [
      "Congratulations your porfolio balance more than meets the minimum required amount for an emergency fund.\n"
     ]
    }
   ],
   "source": [
    "# Evaluate the possibility of creating an emergency fund with 3 conditions:\n",
    "# YOUR CODE HERE\n",
    "if (total_portfolio > emergency_fund_value):\n",
    "    print(\"Congratulations your porfolio balance more than meets the minimum required amount for an emergency fund.\")\n",
    "# YOUR CODE HERE\n",
    "elif (total_portfolio == emergency_fund_value):\n",
    "    print(\"Congratulations your porfolio balance just met the minimum required amount for an emergency fund.\")\n",
    "# YOUR CODE HERE\n",
    "else:\n",
    "    print(f\"You are close to meeting your financial goals. You need to save ${emergency_fund_value - total_portfolio : .02f} to\"\n",
    "          f\" meet the minimum agreed upon emergency funds amount.\")"
   ]
  },
  {
   "cell_type": "markdown",
   "metadata": {},
   "source": [
    "## Part 2: Create a Financial Planner for Retirement"
   ]
  },
  {
   "cell_type": "markdown",
   "metadata": {},
   "source": [
    "### Create the Monte Carlo Simulation\n",
    "\n",
    "In this section, you’ll use the MCForecastTools library to create a Monte Carlo simulation for the member’s savings portfolio. To do this, complete the following steps:\n",
    "\n",
    "1. Make an API call via the Alpaca SDK to get 3 years of historical closing prices for a traditional 60/40 portfolio split: 60% stocks (SPY) and 40% bonds (AGG).\n",
    "\n",
    "2. Run a Monte Carlo simulation of 500 samples and 30 years for the 60/40 portfolio, and then plot the results.The following image shows the overlay line plot resulting from a simulation with these characteristics. However, because a random number generator is used to run each live Monte Carlo simulation, your image will differ slightly from this exact image:\n",
    "\n",
    "![A screenshot depicts the resulting plot.](Images/5-4-monte-carlo-line-plot.png)\n",
    "\n",
    "3. Plot the probability distribution of the Monte Carlo simulation. Plot the probability distribution of the Monte Carlo simulation. The following image shows the histogram plot resulting from a simulation with these characteristics. However, because a random number generator is used to run each live Monte Carlo simulation, your image will differ slightly from this exact image:\n",
    "\n",
    "![A screenshot depicts the histogram plot.](Images/5-4-monte-carlo-histogram.png)\n",
    "\n",
    "4. Generate the summary statistics for the Monte Carlo simulation.\n",
    "\n"
   ]
  },
  {
   "cell_type": "markdown",
   "metadata": {},
   "source": [
    "#### Step 1: Make an API call via the Alpaca SDK to get 3 years of historical closing prices for a traditional 60/40 portfolio split: 60% stocks (SPY) and 40% bonds (AGG)."
   ]
  },
  {
   "cell_type": "code",
   "execution_count": 28,
   "metadata": {},
   "outputs": [],
   "source": [
    "# Set start and end dates of 3 years back from your current date\n",
    "# Alternatively, you can use an end date of 2020-08-07 and work 3 years back from that date \n",
    "# YOUR CODE HERE\n",
    "start_mc = pd.Timestamp(\"2020-08-18\", tz = \"America/New_York\").isoformat()\n",
    "# YOUR CODE HERE\n",
    "end_mc = pd.Timestamp(\"2023-08-18\", tz = \"America/New_York\").isoformat()"
   ]
  },
  {
   "cell_type": "code",
   "execution_count": 29,
   "metadata": {},
   "outputs": [
    {
     "data": {
      "text/html": [
       "<div>\n",
       "<style scoped>\n",
       "    .dataframe tbody tr th:only-of-type {\n",
       "        vertical-align: middle;\n",
       "    }\n",
       "\n",
       "    .dataframe tbody tr th {\n",
       "        vertical-align: top;\n",
       "    }\n",
       "\n",
       "    .dataframe thead tr th {\n",
       "        text-align: left;\n",
       "    }\n",
       "\n",
       "    .dataframe thead tr:last-of-type th {\n",
       "        text-align: right;\n",
       "    }\n",
       "</style>\n",
       "<table border=\"1\" class=\"dataframe\">\n",
       "  <thead>\n",
       "    <tr>\n",
       "      <th></th>\n",
       "      <th colspan=\"7\" halign=\"left\">SPY</th>\n",
       "      <th colspan=\"7\" halign=\"left\">AGG</th>\n",
       "    </tr>\n",
       "    <tr>\n",
       "      <th></th>\n",
       "      <th>open</th>\n",
       "      <th>high</th>\n",
       "      <th>low</th>\n",
       "      <th>close</th>\n",
       "      <th>volume</th>\n",
       "      <th>trade_count</th>\n",
       "      <th>vwap</th>\n",
       "      <th>open</th>\n",
       "      <th>high</th>\n",
       "      <th>low</th>\n",
       "      <th>close</th>\n",
       "      <th>volume</th>\n",
       "      <th>trade_count</th>\n",
       "      <th>vwap</th>\n",
       "    </tr>\n",
       "    <tr>\n",
       "      <th>timestamp</th>\n",
       "      <th></th>\n",
       "      <th></th>\n",
       "      <th></th>\n",
       "      <th></th>\n",
       "      <th></th>\n",
       "      <th></th>\n",
       "      <th></th>\n",
       "      <th></th>\n",
       "      <th></th>\n",
       "      <th></th>\n",
       "      <th></th>\n",
       "      <th></th>\n",
       "      <th></th>\n",
       "      <th></th>\n",
       "    </tr>\n",
       "  </thead>\n",
       "  <tbody>\n",
       "    <tr>\n",
       "      <th>2020-08-18 04:00:00+00:00</th>\n",
       "      <td>338.34</td>\n",
       "      <td>339.10</td>\n",
       "      <td>336.6100</td>\n",
       "      <td>338.595</td>\n",
       "      <td>38729908</td>\n",
       "      <td>213168</td>\n",
       "      <td>338.322479</td>\n",
       "      <td>118.4279</td>\n",
       "      <td>118.60</td>\n",
       "      <td>118.42</td>\n",
       "      <td>118.53</td>\n",
       "      <td>4765813</td>\n",
       "      <td>14791</td>\n",
       "      <td>118.531748</td>\n",
       "    </tr>\n",
       "    <tr>\n",
       "      <th>2020-08-19 04:00:00+00:00</th>\n",
       "      <td>339.05</td>\n",
       "      <td>339.61</td>\n",
       "      <td>336.6200</td>\n",
       "      <td>337.130</td>\n",
       "      <td>68054355</td>\n",
       "      <td>321017</td>\n",
       "      <td>338.207759</td>\n",
       "      <td>118.6500</td>\n",
       "      <td>118.70</td>\n",
       "      <td>118.34</td>\n",
       "      <td>118.35</td>\n",
       "      <td>4540992</td>\n",
       "      <td>14358</td>\n",
       "      <td>118.517708</td>\n",
       "    </tr>\n",
       "    <tr>\n",
       "      <th>2020-08-20 04:00:00+00:00</th>\n",
       "      <td>335.36</td>\n",
       "      <td>338.80</td>\n",
       "      <td>335.2200</td>\n",
       "      <td>338.310</td>\n",
       "      <td>42207826</td>\n",
       "      <td>271504</td>\n",
       "      <td>337.483134</td>\n",
       "      <td>118.5800</td>\n",
       "      <td>118.71</td>\n",
       "      <td>118.56</td>\n",
       "      <td>118.56</td>\n",
       "      <td>4487506</td>\n",
       "      <td>13490</td>\n",
       "      <td>118.608076</td>\n",
       "    </tr>\n",
       "    <tr>\n",
       "      <th>2020-08-21 04:00:00+00:00</th>\n",
       "      <td>337.92</td>\n",
       "      <td>339.72</td>\n",
       "      <td>337.5500</td>\n",
       "      <td>339.450</td>\n",
       "      <td>55106628</td>\n",
       "      <td>270817</td>\n",
       "      <td>338.773083</td>\n",
       "      <td>118.7400</td>\n",
       "      <td>118.76</td>\n",
       "      <td>118.55</td>\n",
       "      <td>118.68</td>\n",
       "      <td>6373275</td>\n",
       "      <td>13830</td>\n",
       "      <td>118.668349</td>\n",
       "    </tr>\n",
       "    <tr>\n",
       "      <th>2020-08-24 04:00:00+00:00</th>\n",
       "      <td>342.12</td>\n",
       "      <td>343.00</td>\n",
       "      <td>339.4504</td>\n",
       "      <td>342.900</td>\n",
       "      <td>48588662</td>\n",
       "      <td>278775</td>\n",
       "      <td>341.935714</td>\n",
       "      <td>118.7200</td>\n",
       "      <td>118.82</td>\n",
       "      <td>118.60</td>\n",
       "      <td>118.63</td>\n",
       "      <td>4620863</td>\n",
       "      <td>17999</td>\n",
       "      <td>118.670385</td>\n",
       "    </tr>\n",
       "  </tbody>\n",
       "</table>\n",
       "</div>"
      ],
      "text/plain": [
       "                              SPY                                       \\\n",
       "                             open    high       low    close    volume   \n",
       "timestamp                                                                \n",
       "2020-08-18 04:00:00+00:00  338.34  339.10  336.6100  338.595  38729908   \n",
       "2020-08-19 04:00:00+00:00  339.05  339.61  336.6200  337.130  68054355   \n",
       "2020-08-20 04:00:00+00:00  335.36  338.80  335.2200  338.310  42207826   \n",
       "2020-08-21 04:00:00+00:00  337.92  339.72  337.5500  339.450  55106628   \n",
       "2020-08-24 04:00:00+00:00  342.12  343.00  339.4504  342.900  48588662   \n",
       "\n",
       "                                                        AGG                  \\\n",
       "                          trade_count        vwap      open    high     low   \n",
       "timestamp                                                                     \n",
       "2020-08-18 04:00:00+00:00      213168  338.322479  118.4279  118.60  118.42   \n",
       "2020-08-19 04:00:00+00:00      321017  338.207759  118.6500  118.70  118.34   \n",
       "2020-08-20 04:00:00+00:00      271504  337.483134  118.5800  118.71  118.56   \n",
       "2020-08-21 04:00:00+00:00      270817  338.773083  118.7400  118.76  118.55   \n",
       "2020-08-24 04:00:00+00:00      278775  341.935714  118.7200  118.82  118.60   \n",
       "\n",
       "                                                                    \n",
       "                            close   volume trade_count        vwap  \n",
       "timestamp                                                           \n",
       "2020-08-18 04:00:00+00:00  118.53  4765813       14791  118.531748  \n",
       "2020-08-19 04:00:00+00:00  118.35  4540992       14358  118.517708  \n",
       "2020-08-20 04:00:00+00:00  118.56  4487506       13490  118.608076  \n",
       "2020-08-21 04:00:00+00:00  118.68  6373275       13830  118.668349  \n",
       "2020-08-24 04:00:00+00:00  118.63  4620863       17999  118.670385  "
      ]
     },
     "metadata": {},
     "output_type": "display_data"
    },
    {
     "data": {
      "text/html": [
       "<div>\n",
       "<style scoped>\n",
       "    .dataframe tbody tr th:only-of-type {\n",
       "        vertical-align: middle;\n",
       "    }\n",
       "\n",
       "    .dataframe tbody tr th {\n",
       "        vertical-align: top;\n",
       "    }\n",
       "\n",
       "    .dataframe thead tr th {\n",
       "        text-align: left;\n",
       "    }\n",
       "\n",
       "    .dataframe thead tr:last-of-type th {\n",
       "        text-align: right;\n",
       "    }\n",
       "</style>\n",
       "<table border=\"1\" class=\"dataframe\">\n",
       "  <thead>\n",
       "    <tr>\n",
       "      <th></th>\n",
       "      <th colspan=\"7\" halign=\"left\">SPY</th>\n",
       "      <th colspan=\"7\" halign=\"left\">AGG</th>\n",
       "    </tr>\n",
       "    <tr>\n",
       "      <th></th>\n",
       "      <th>open</th>\n",
       "      <th>high</th>\n",
       "      <th>low</th>\n",
       "      <th>close</th>\n",
       "      <th>volume</th>\n",
       "      <th>trade_count</th>\n",
       "      <th>vwap</th>\n",
       "      <th>open</th>\n",
       "      <th>high</th>\n",
       "      <th>low</th>\n",
       "      <th>close</th>\n",
       "      <th>volume</th>\n",
       "      <th>trade_count</th>\n",
       "      <th>vwap</th>\n",
       "    </tr>\n",
       "    <tr>\n",
       "      <th>timestamp</th>\n",
       "      <th></th>\n",
       "      <th></th>\n",
       "      <th></th>\n",
       "      <th></th>\n",
       "      <th></th>\n",
       "      <th></th>\n",
       "      <th></th>\n",
       "      <th></th>\n",
       "      <th></th>\n",
       "      <th></th>\n",
       "      <th></th>\n",
       "      <th></th>\n",
       "      <th></th>\n",
       "      <th></th>\n",
       "    </tr>\n",
       "  </thead>\n",
       "  <tbody>\n",
       "    <tr>\n",
       "      <th>2023-08-14 04:00:00+00:00</th>\n",
       "      <td>444.70</td>\n",
       "      <td>448.11</td>\n",
       "      <td>444.38</td>\n",
       "      <td>448.11</td>\n",
       "      <td>47877271</td>\n",
       "      <td>405059</td>\n",
       "      <td>446.727325</td>\n",
       "      <td>95.98</td>\n",
       "      <td>96.2200</td>\n",
       "      <td>95.83</td>\n",
       "      <td>96.00</td>\n",
       "      <td>7901459</td>\n",
       "      <td>20238</td>\n",
       "      <td>96.031807</td>\n",
       "    </tr>\n",
       "    <tr>\n",
       "      <th>2023-08-15 04:00:00+00:00</th>\n",
       "      <td>446.27</td>\n",
       "      <td>446.64</td>\n",
       "      <td>442.30</td>\n",
       "      <td>442.89</td>\n",
       "      <td>75737936</td>\n",
       "      <td>541508</td>\n",
       "      <td>444.260791</td>\n",
       "      <td>95.81</td>\n",
       "      <td>96.0700</td>\n",
       "      <td>95.74</td>\n",
       "      <td>95.74</td>\n",
       "      <td>6522467</td>\n",
       "      <td>26064</td>\n",
       "      <td>95.882192</td>\n",
       "    </tr>\n",
       "    <tr>\n",
       "      <th>2023-08-16 04:00:00+00:00</th>\n",
       "      <td>442.46</td>\n",
       "      <td>444.18</td>\n",
       "      <td>439.53</td>\n",
       "      <td>439.64</td>\n",
       "      <td>80106304</td>\n",
       "      <td>568998</td>\n",
       "      <td>441.624976</td>\n",
       "      <td>95.76</td>\n",
       "      <td>95.9300</td>\n",
       "      <td>95.45</td>\n",
       "      <td>95.51</td>\n",
       "      <td>8964587</td>\n",
       "      <td>30939</td>\n",
       "      <td>95.645764</td>\n",
       "    </tr>\n",
       "    <tr>\n",
       "      <th>2023-08-17 04:00:00+00:00</th>\n",
       "      <td>441.16</td>\n",
       "      <td>441.43</td>\n",
       "      <td>435.75</td>\n",
       "      <td>436.29</td>\n",
       "      <td>94554366</td>\n",
       "      <td>572648</td>\n",
       "      <td>438.331604</td>\n",
       "      <td>95.50</td>\n",
       "      <td>95.5455</td>\n",
       "      <td>95.21</td>\n",
       "      <td>95.41</td>\n",
       "      <td>7633417</td>\n",
       "      <td>27623</td>\n",
       "      <td>95.338228</td>\n",
       "    </tr>\n",
       "    <tr>\n",
       "      <th>2023-08-18 04:00:00+00:00</th>\n",
       "      <td>433.37</td>\n",
       "      <td>437.57</td>\n",
       "      <td>433.01</td>\n",
       "      <td>436.50</td>\n",
       "      <td>98435786</td>\n",
       "      <td>632838</td>\n",
       "      <td>435.554075</td>\n",
       "      <td>95.47</td>\n",
       "      <td>95.7475</td>\n",
       "      <td>95.43</td>\n",
       "      <td>95.62</td>\n",
       "      <td>6022506</td>\n",
       "      <td>22599</td>\n",
       "      <td>95.641482</td>\n",
       "    </tr>\n",
       "  </tbody>\n",
       "</table>\n",
       "</div>"
      ],
      "text/plain": [
       "                              SPY                                    \\\n",
       "                             open    high     low   close    volume   \n",
       "timestamp                                                             \n",
       "2023-08-14 04:00:00+00:00  444.70  448.11  444.38  448.11  47877271   \n",
       "2023-08-15 04:00:00+00:00  446.27  446.64  442.30  442.89  75737936   \n",
       "2023-08-16 04:00:00+00:00  442.46  444.18  439.53  439.64  80106304   \n",
       "2023-08-17 04:00:00+00:00  441.16  441.43  435.75  436.29  94554366   \n",
       "2023-08-18 04:00:00+00:00  433.37  437.57  433.01  436.50  98435786   \n",
       "\n",
       "                                                     AGG                  \\\n",
       "                          trade_count        vwap   open     high    low   \n",
       "timestamp                                                                  \n",
       "2023-08-14 04:00:00+00:00      405059  446.727325  95.98  96.2200  95.83   \n",
       "2023-08-15 04:00:00+00:00      541508  444.260791  95.81  96.0700  95.74   \n",
       "2023-08-16 04:00:00+00:00      568998  441.624976  95.76  95.9300  95.45   \n",
       "2023-08-17 04:00:00+00:00      572648  438.331604  95.50  95.5455  95.21   \n",
       "2023-08-18 04:00:00+00:00      632838  435.554075  95.47  95.7475  95.43   \n",
       "\n",
       "                                                                  \n",
       "                           close   volume trade_count       vwap  \n",
       "timestamp                                                         \n",
       "2023-08-14 04:00:00+00:00  96.00  7901459       20238  96.031807  \n",
       "2023-08-15 04:00:00+00:00  95.74  6522467       26064  95.882192  \n",
       "2023-08-16 04:00:00+00:00  95.51  8964587       30939  95.645764  \n",
       "2023-08-17 04:00:00+00:00  95.41  7633417       27623  95.338228  \n",
       "2023-08-18 04:00:00+00:00  95.62  6022506       22599  95.641482  "
      ]
     },
     "metadata": {},
     "output_type": "display_data"
    }
   ],
   "source": [
    "# Use the Alpaca get_bars function to make the API call to get the 3 years worth of pricing data\n",
    "# The tickers and timeframe parameters should have been set in Part 1 of this activity \n",
    "# The start and end dates should be updated with the information set above\n",
    "# Remember to add the df property to the end of the call so the response is returned as a DataFrame\n",
    "# YOUR CODE HERE\n",
    "prices_mc = alpaca.get_bars(\n",
    "    tickers,\n",
    "    timeframe,\n",
    "    start = start_mc,\n",
    "    end = end_mc,\n",
    "    limit = 2000).df\n",
    "# Reorganize the DataFrame\n",
    "# Separate ticker data\n",
    "# YOUR CODE HERE\n",
    "spy = prices_mc[prices_mc[\"symbol\"] == \"SPY\"].drop(\"symbol\", axis = 1)\n",
    "agg = prices_mc[prices_mc[\"symbol\"] == \"AGG\"].drop(\"symbol\", axis = 1)\n",
    "# Concatenate the ticker DataFrames\n",
    "# YOUR CODE HERE\n",
    "prices_mc = pd.concat([spy,agg], axis=1, keys= [\"SPY\", \"AGG\"])\n",
    "# Display both the first and last five rows of the DataFrame\n",
    "# YOUR CODE HERE\n",
    "# YOUR CODE HERE\n",
    "display(prices_mc.head())\n",
    "display(prices_mc.tail())"
   ]
  },
  {
   "cell_type": "markdown",
   "metadata": {},
   "source": [
    "#### Step 2: Run a Monte Carlo simulation of 500 samples and 30 years for the 60/40 portfolio, and then plot the results."
   ]
  },
  {
   "cell_type": "code",
   "execution_count": 30,
   "metadata": {},
   "outputs": [
    {
     "data": {
      "text/html": [
       "<div>\n",
       "<style scoped>\n",
       "    .dataframe tbody tr th:only-of-type {\n",
       "        vertical-align: middle;\n",
       "    }\n",
       "\n",
       "    .dataframe tbody tr th {\n",
       "        vertical-align: top;\n",
       "    }\n",
       "\n",
       "    .dataframe thead tr th {\n",
       "        text-align: left;\n",
       "    }\n",
       "\n",
       "    .dataframe thead tr:last-of-type th {\n",
       "        text-align: right;\n",
       "    }\n",
       "</style>\n",
       "<table border=\"1\" class=\"dataframe\">\n",
       "  <thead>\n",
       "    <tr>\n",
       "      <th></th>\n",
       "      <th colspan=\"8\" halign=\"left\">SPY</th>\n",
       "      <th colspan=\"8\" halign=\"left\">AGG</th>\n",
       "    </tr>\n",
       "    <tr>\n",
       "      <th></th>\n",
       "      <th>open</th>\n",
       "      <th>high</th>\n",
       "      <th>low</th>\n",
       "      <th>close</th>\n",
       "      <th>volume</th>\n",
       "      <th>trade_count</th>\n",
       "      <th>vwap</th>\n",
       "      <th>daily_return</th>\n",
       "      <th>open</th>\n",
       "      <th>high</th>\n",
       "      <th>low</th>\n",
       "      <th>close</th>\n",
       "      <th>volume</th>\n",
       "      <th>trade_count</th>\n",
       "      <th>vwap</th>\n",
       "      <th>daily_return</th>\n",
       "    </tr>\n",
       "    <tr>\n",
       "      <th>timestamp</th>\n",
       "      <th></th>\n",
       "      <th></th>\n",
       "      <th></th>\n",
       "      <th></th>\n",
       "      <th></th>\n",
       "      <th></th>\n",
       "      <th></th>\n",
       "      <th></th>\n",
       "      <th></th>\n",
       "      <th></th>\n",
       "      <th></th>\n",
       "      <th></th>\n",
       "      <th></th>\n",
       "      <th></th>\n",
       "      <th></th>\n",
       "      <th></th>\n",
       "    </tr>\n",
       "  </thead>\n",
       "  <tbody>\n",
       "    <tr>\n",
       "      <th>2020-08-18 04:00:00+00:00</th>\n",
       "      <td>338.34</td>\n",
       "      <td>339.10</td>\n",
       "      <td>336.6100</td>\n",
       "      <td>338.595</td>\n",
       "      <td>38729908</td>\n",
       "      <td>213168</td>\n",
       "      <td>338.322479</td>\n",
       "      <td>NaN</td>\n",
       "      <td>118.4279</td>\n",
       "      <td>118.60</td>\n",
       "      <td>118.42</td>\n",
       "      <td>118.53</td>\n",
       "      <td>4765813</td>\n",
       "      <td>14791</td>\n",
       "      <td>118.531748</td>\n",
       "      <td>NaN</td>\n",
       "    </tr>\n",
       "    <tr>\n",
       "      <th>2020-08-19 04:00:00+00:00</th>\n",
       "      <td>339.05</td>\n",
       "      <td>339.61</td>\n",
       "      <td>336.6200</td>\n",
       "      <td>337.130</td>\n",
       "      <td>68054355</td>\n",
       "      <td>321017</td>\n",
       "      <td>338.207759</td>\n",
       "      <td>-0.004327</td>\n",
       "      <td>118.6500</td>\n",
       "      <td>118.70</td>\n",
       "      <td>118.34</td>\n",
       "      <td>118.35</td>\n",
       "      <td>4540992</td>\n",
       "      <td>14358</td>\n",
       "      <td>118.517708</td>\n",
       "      <td>-0.001519</td>\n",
       "    </tr>\n",
       "    <tr>\n",
       "      <th>2020-08-20 04:00:00+00:00</th>\n",
       "      <td>335.36</td>\n",
       "      <td>338.80</td>\n",
       "      <td>335.2200</td>\n",
       "      <td>338.310</td>\n",
       "      <td>42207826</td>\n",
       "      <td>271504</td>\n",
       "      <td>337.483134</td>\n",
       "      <td>0.003500</td>\n",
       "      <td>118.5800</td>\n",
       "      <td>118.71</td>\n",
       "      <td>118.56</td>\n",
       "      <td>118.56</td>\n",
       "      <td>4487506</td>\n",
       "      <td>13490</td>\n",
       "      <td>118.608076</td>\n",
       "      <td>0.001774</td>\n",
       "    </tr>\n",
       "    <tr>\n",
       "      <th>2020-08-21 04:00:00+00:00</th>\n",
       "      <td>337.92</td>\n",
       "      <td>339.72</td>\n",
       "      <td>337.5500</td>\n",
       "      <td>339.450</td>\n",
       "      <td>55106628</td>\n",
       "      <td>270817</td>\n",
       "      <td>338.773083</td>\n",
       "      <td>0.003370</td>\n",
       "      <td>118.7400</td>\n",
       "      <td>118.76</td>\n",
       "      <td>118.55</td>\n",
       "      <td>118.68</td>\n",
       "      <td>6373275</td>\n",
       "      <td>13830</td>\n",
       "      <td>118.668349</td>\n",
       "      <td>0.001012</td>\n",
       "    </tr>\n",
       "    <tr>\n",
       "      <th>2020-08-24 04:00:00+00:00</th>\n",
       "      <td>342.12</td>\n",
       "      <td>343.00</td>\n",
       "      <td>339.4504</td>\n",
       "      <td>342.900</td>\n",
       "      <td>48588662</td>\n",
       "      <td>278775</td>\n",
       "      <td>341.935714</td>\n",
       "      <td>0.010163</td>\n",
       "      <td>118.7200</td>\n",
       "      <td>118.82</td>\n",
       "      <td>118.60</td>\n",
       "      <td>118.63</td>\n",
       "      <td>4620863</td>\n",
       "      <td>17999</td>\n",
       "      <td>118.670385</td>\n",
       "      <td>-0.000421</td>\n",
       "    </tr>\n",
       "  </tbody>\n",
       "</table>\n",
       "</div>"
      ],
      "text/plain": [
       "                              SPY                                       \\\n",
       "                             open    high       low    close    volume   \n",
       "timestamp                                                                \n",
       "2020-08-18 04:00:00+00:00  338.34  339.10  336.6100  338.595  38729908   \n",
       "2020-08-19 04:00:00+00:00  339.05  339.61  336.6200  337.130  68054355   \n",
       "2020-08-20 04:00:00+00:00  335.36  338.80  335.2200  338.310  42207826   \n",
       "2020-08-21 04:00:00+00:00  337.92  339.72  337.5500  339.450  55106628   \n",
       "2020-08-24 04:00:00+00:00  342.12  343.00  339.4504  342.900  48588662   \n",
       "\n",
       "                                                                     AGG  \\\n",
       "                          trade_count        vwap daily_return      open   \n",
       "timestamp                                                                  \n",
       "2020-08-18 04:00:00+00:00      213168  338.322479          NaN  118.4279   \n",
       "2020-08-19 04:00:00+00:00      321017  338.207759    -0.004327  118.6500   \n",
       "2020-08-20 04:00:00+00:00      271504  337.483134     0.003500  118.5800   \n",
       "2020-08-21 04:00:00+00:00      270817  338.773083     0.003370  118.7400   \n",
       "2020-08-24 04:00:00+00:00      278775  341.935714     0.010163  118.7200   \n",
       "\n",
       "                                                                        \\\n",
       "                             high     low   close   volume trade_count   \n",
       "timestamp                                                                \n",
       "2020-08-18 04:00:00+00:00  118.60  118.42  118.53  4765813       14791   \n",
       "2020-08-19 04:00:00+00:00  118.70  118.34  118.35  4540992       14358   \n",
       "2020-08-20 04:00:00+00:00  118.71  118.56  118.56  4487506       13490   \n",
       "2020-08-21 04:00:00+00:00  118.76  118.55  118.68  6373275       13830   \n",
       "2020-08-24 04:00:00+00:00  118.82  118.60  118.63  4620863       17999   \n",
       "\n",
       "                                                    \n",
       "                                 vwap daily_return  \n",
       "timestamp                                           \n",
       "2020-08-18 04:00:00+00:00  118.531748          NaN  \n",
       "2020-08-19 04:00:00+00:00  118.517708    -0.001519  \n",
       "2020-08-20 04:00:00+00:00  118.608076     0.001774  \n",
       "2020-08-21 04:00:00+00:00  118.668349     0.001012  \n",
       "2020-08-24 04:00:00+00:00  118.670385    -0.000421  "
      ]
     },
     "execution_count": 30,
     "metadata": {},
     "output_type": "execute_result"
    }
   ],
   "source": [
    "# Configure the Monte Carlo simulation to forecast 30 years cumulative returns\n",
    "# The weights should be split 40% to AGG and 60% to SPY.\n",
    "# Run 500 samples.\n",
    "# YOUR CODE HERE\n",
    "mc_traditional = MCSimulation(\n",
    "    portfolio_data=prices_mc,\n",
    "    weights = [.60, .40],\n",
    "    num_simulation= 500,\n",
    "    num_trading_days= 252*30)\n",
    "# Review the simulation input data\n",
    "# YOUR CODE HERE\n",
    "mc_traditional.portfolio_data.head()"
   ]
  },
  {
   "cell_type": "code",
   "execution_count": 31,
   "metadata": {},
   "outputs": [
    {
     "name": "stdout",
     "output_type": "stream",
     "text": [
      "Running Monte Carlo simulation number 0.\n",
      "Running Monte Carlo simulation number 10.\n",
      "Running Monte Carlo simulation number 20.\n",
      "Running Monte Carlo simulation number 30.\n",
      "Running Monte Carlo simulation number 40.\n",
      "Running Monte Carlo simulation number 50.\n",
      "Running Monte Carlo simulation number 60.\n",
      "Running Monte Carlo simulation number 70.\n",
      "Running Monte Carlo simulation number 80.\n",
      "Running Monte Carlo simulation number 90.\n",
      "Running Monte Carlo simulation number 100.\n",
      "Running Monte Carlo simulation number 110.\n",
      "Running Monte Carlo simulation number 120.\n",
      "Running Monte Carlo simulation number 130.\n",
      "Running Monte Carlo simulation number 140.\n",
      "Running Monte Carlo simulation number 150.\n",
      "Running Monte Carlo simulation number 160.\n",
      "Running Monte Carlo simulation number 170.\n",
      "Running Monte Carlo simulation number 180.\n",
      "Running Monte Carlo simulation number 190.\n",
      "Running Monte Carlo simulation number 200.\n",
      "Running Monte Carlo simulation number 210.\n",
      "Running Monte Carlo simulation number 220.\n",
      "Running Monte Carlo simulation number 230.\n",
      "Running Monte Carlo simulation number 240.\n",
      "Running Monte Carlo simulation number 250.\n",
      "Running Monte Carlo simulation number 260.\n",
      "Running Monte Carlo simulation number 270.\n",
      "Running Monte Carlo simulation number 280.\n",
      "Running Monte Carlo simulation number 290.\n",
      "Running Monte Carlo simulation number 300.\n",
      "Running Monte Carlo simulation number 310.\n",
      "Running Monte Carlo simulation number 320.\n",
      "Running Monte Carlo simulation number 330.\n",
      "Running Monte Carlo simulation number 340.\n",
      "Running Monte Carlo simulation number 350.\n",
      "Running Monte Carlo simulation number 360.\n",
      "Running Monte Carlo simulation number 370.\n",
      "Running Monte Carlo simulation number 380.\n",
      "Running Monte Carlo simulation number 390.\n",
      "Running Monte Carlo simulation number 400.\n",
      "Running Monte Carlo simulation number 410.\n",
      "Running Monte Carlo simulation number 420.\n",
      "Running Monte Carlo simulation number 430.\n",
      "Running Monte Carlo simulation number 440.\n",
      "Running Monte Carlo simulation number 450.\n",
      "Running Monte Carlo simulation number 460.\n",
      "Running Monte Carlo simulation number 470.\n",
      "Running Monte Carlo simulation number 480.\n",
      "Running Monte Carlo simulation number 490.\n"
     ]
    },
    {
     "data": {
      "text/html": [
       "<div>\n",
       "<style scoped>\n",
       "    .dataframe tbody tr th:only-of-type {\n",
       "        vertical-align: middle;\n",
       "    }\n",
       "\n",
       "    .dataframe tbody tr th {\n",
       "        vertical-align: top;\n",
       "    }\n",
       "\n",
       "    .dataframe thead th {\n",
       "        text-align: right;\n",
       "    }\n",
       "</style>\n",
       "<table border=\"1\" class=\"dataframe\">\n",
       "  <thead>\n",
       "    <tr style=\"text-align: right;\">\n",
       "      <th></th>\n",
       "      <th>0</th>\n",
       "      <th>1</th>\n",
       "      <th>2</th>\n",
       "      <th>3</th>\n",
       "      <th>4</th>\n",
       "      <th>5</th>\n",
       "      <th>6</th>\n",
       "      <th>7</th>\n",
       "      <th>8</th>\n",
       "      <th>9</th>\n",
       "      <th>...</th>\n",
       "      <th>490</th>\n",
       "      <th>491</th>\n",
       "      <th>492</th>\n",
       "      <th>493</th>\n",
       "      <th>494</th>\n",
       "      <th>495</th>\n",
       "      <th>496</th>\n",
       "      <th>497</th>\n",
       "      <th>498</th>\n",
       "      <th>499</th>\n",
       "    </tr>\n",
       "  </thead>\n",
       "  <tbody>\n",
       "    <tr>\n",
       "      <th>0</th>\n",
       "      <td>1.000000</td>\n",
       "      <td>1.000000</td>\n",
       "      <td>1.000000</td>\n",
       "      <td>1.000000</td>\n",
       "      <td>1.000000</td>\n",
       "      <td>1.000000</td>\n",
       "      <td>1.000000</td>\n",
       "      <td>1.000000</td>\n",
       "      <td>1.000000</td>\n",
       "      <td>1.000000</td>\n",
       "      <td>...</td>\n",
       "      <td>1.000000</td>\n",
       "      <td>1.000000</td>\n",
       "      <td>1.000000</td>\n",
       "      <td>1.000000</td>\n",
       "      <td>1.000000</td>\n",
       "      <td>1.000000</td>\n",
       "      <td>1.000000</td>\n",
       "      <td>1.000000</td>\n",
       "      <td>1.000000</td>\n",
       "      <td>1.000000</td>\n",
       "    </tr>\n",
       "    <tr>\n",
       "      <th>1</th>\n",
       "      <td>1.007829</td>\n",
       "      <td>1.004573</td>\n",
       "      <td>0.988995</td>\n",
       "      <td>1.003238</td>\n",
       "      <td>1.002004</td>\n",
       "      <td>1.002296</td>\n",
       "      <td>0.990685</td>\n",
       "      <td>0.999086</td>\n",
       "      <td>0.998495</td>\n",
       "      <td>0.996241</td>\n",
       "      <td>...</td>\n",
       "      <td>0.996691</td>\n",
       "      <td>0.984366</td>\n",
       "      <td>1.010290</td>\n",
       "      <td>0.995497</td>\n",
       "      <td>1.005188</td>\n",
       "      <td>0.999691</td>\n",
       "      <td>0.988522</td>\n",
       "      <td>0.997016</td>\n",
       "      <td>0.994866</td>\n",
       "      <td>0.986421</td>\n",
       "    </tr>\n",
       "    <tr>\n",
       "      <th>2</th>\n",
       "      <td>1.008944</td>\n",
       "      <td>0.996267</td>\n",
       "      <td>1.004305</td>\n",
       "      <td>0.991074</td>\n",
       "      <td>0.984280</td>\n",
       "      <td>1.002679</td>\n",
       "      <td>0.995478</td>\n",
       "      <td>1.001624</td>\n",
       "      <td>1.003332</td>\n",
       "      <td>0.995717</td>\n",
       "      <td>...</td>\n",
       "      <td>0.992740</td>\n",
       "      <td>0.988250</td>\n",
       "      <td>1.007367</td>\n",
       "      <td>1.002189</td>\n",
       "      <td>1.005356</td>\n",
       "      <td>1.004007</td>\n",
       "      <td>0.984628</td>\n",
       "      <td>1.005543</td>\n",
       "      <td>0.992174</td>\n",
       "      <td>0.979882</td>\n",
       "    </tr>\n",
       "    <tr>\n",
       "      <th>3</th>\n",
       "      <td>1.021429</td>\n",
       "      <td>0.990673</td>\n",
       "      <td>1.002297</td>\n",
       "      <td>0.981766</td>\n",
       "      <td>0.989506</td>\n",
       "      <td>1.001416</td>\n",
       "      <td>0.999782</td>\n",
       "      <td>1.016815</td>\n",
       "      <td>1.004352</td>\n",
       "      <td>1.008579</td>\n",
       "      <td>...</td>\n",
       "      <td>0.998647</td>\n",
       "      <td>0.983544</td>\n",
       "      <td>0.997491</td>\n",
       "      <td>1.006014</td>\n",
       "      <td>1.014113</td>\n",
       "      <td>1.003266</td>\n",
       "      <td>0.985911</td>\n",
       "      <td>1.007646</td>\n",
       "      <td>1.004266</td>\n",
       "      <td>0.980561</td>\n",
       "    </tr>\n",
       "    <tr>\n",
       "      <th>4</th>\n",
       "      <td>1.009234</td>\n",
       "      <td>0.992271</td>\n",
       "      <td>1.004323</td>\n",
       "      <td>0.972925</td>\n",
       "      <td>0.975432</td>\n",
       "      <td>0.998040</td>\n",
       "      <td>0.991925</td>\n",
       "      <td>1.021903</td>\n",
       "      <td>1.000375</td>\n",
       "      <td>1.010590</td>\n",
       "      <td>...</td>\n",
       "      <td>1.007161</td>\n",
       "      <td>0.980547</td>\n",
       "      <td>0.988911</td>\n",
       "      <td>1.010626</td>\n",
       "      <td>1.019315</td>\n",
       "      <td>1.002891</td>\n",
       "      <td>0.986340</td>\n",
       "      <td>1.022443</td>\n",
       "      <td>1.006270</td>\n",
       "      <td>0.974393</td>\n",
       "    </tr>\n",
       "    <tr>\n",
       "      <th>...</th>\n",
       "      <td>...</td>\n",
       "      <td>...</td>\n",
       "      <td>...</td>\n",
       "      <td>...</td>\n",
       "      <td>...</td>\n",
       "      <td>...</td>\n",
       "      <td>...</td>\n",
       "      <td>...</td>\n",
       "      <td>...</td>\n",
       "      <td>...</td>\n",
       "      <td>...</td>\n",
       "      <td>...</td>\n",
       "      <td>...</td>\n",
       "      <td>...</td>\n",
       "      <td>...</td>\n",
       "      <td>...</td>\n",
       "      <td>...</td>\n",
       "      <td>...</td>\n",
       "      <td>...</td>\n",
       "      <td>...</td>\n",
       "      <td>...</td>\n",
       "    </tr>\n",
       "    <tr>\n",
       "      <th>7556</th>\n",
       "      <td>2.430342</td>\n",
       "      <td>2.370957</td>\n",
       "      <td>1.466331</td>\n",
       "      <td>0.853172</td>\n",
       "      <td>1.206585</td>\n",
       "      <td>2.069067</td>\n",
       "      <td>2.587640</td>\n",
       "      <td>5.153337</td>\n",
       "      <td>1.851314</td>\n",
       "      <td>3.038045</td>\n",
       "      <td>...</td>\n",
       "      <td>1.151332</td>\n",
       "      <td>2.112385</td>\n",
       "      <td>2.317428</td>\n",
       "      <td>0.707595</td>\n",
       "      <td>1.192407</td>\n",
       "      <td>1.999114</td>\n",
       "      <td>3.702650</td>\n",
       "      <td>3.307904</td>\n",
       "      <td>3.167058</td>\n",
       "      <td>2.026727</td>\n",
       "    </tr>\n",
       "    <tr>\n",
       "      <th>7557</th>\n",
       "      <td>2.457878</td>\n",
       "      <td>2.365960</td>\n",
       "      <td>1.481478</td>\n",
       "      <td>0.848702</td>\n",
       "      <td>1.205688</td>\n",
       "      <td>2.080777</td>\n",
       "      <td>2.574592</td>\n",
       "      <td>5.165788</td>\n",
       "      <td>1.841534</td>\n",
       "      <td>3.065529</td>\n",
       "      <td>...</td>\n",
       "      <td>1.156024</td>\n",
       "      <td>2.131739</td>\n",
       "      <td>2.312346</td>\n",
       "      <td>0.711555</td>\n",
       "      <td>1.187500</td>\n",
       "      <td>1.991353</td>\n",
       "      <td>3.712799</td>\n",
       "      <td>3.302475</td>\n",
       "      <td>3.194869</td>\n",
       "      <td>2.014777</td>\n",
       "    </tr>\n",
       "    <tr>\n",
       "      <th>7558</th>\n",
       "      <td>2.442017</td>\n",
       "      <td>2.393048</td>\n",
       "      <td>1.467663</td>\n",
       "      <td>0.849560</td>\n",
       "      <td>1.210403</td>\n",
       "      <td>2.078758</td>\n",
       "      <td>2.598689</td>\n",
       "      <td>5.252169</td>\n",
       "      <td>1.848644</td>\n",
       "      <td>3.067377</td>\n",
       "      <td>...</td>\n",
       "      <td>1.151932</td>\n",
       "      <td>2.131656</td>\n",
       "      <td>2.288505</td>\n",
       "      <td>0.711760</td>\n",
       "      <td>1.181499</td>\n",
       "      <td>2.011650</td>\n",
       "      <td>3.727275</td>\n",
       "      <td>3.324546</td>\n",
       "      <td>3.181204</td>\n",
       "      <td>2.020434</td>\n",
       "    </tr>\n",
       "    <tr>\n",
       "      <th>7559</th>\n",
       "      <td>2.479733</td>\n",
       "      <td>2.421768</td>\n",
       "      <td>1.439911</td>\n",
       "      <td>0.848366</td>\n",
       "      <td>1.209273</td>\n",
       "      <td>2.093079</td>\n",
       "      <td>2.607645</td>\n",
       "      <td>5.279088</td>\n",
       "      <td>1.851618</td>\n",
       "      <td>3.049458</td>\n",
       "      <td>...</td>\n",
       "      <td>1.156430</td>\n",
       "      <td>2.150836</td>\n",
       "      <td>2.292299</td>\n",
       "      <td>0.709439</td>\n",
       "      <td>1.172732</td>\n",
       "      <td>2.015270</td>\n",
       "      <td>3.716772</td>\n",
       "      <td>3.287364</td>\n",
       "      <td>3.171866</td>\n",
       "      <td>2.030820</td>\n",
       "    </tr>\n",
       "    <tr>\n",
       "      <th>7560</th>\n",
       "      <td>2.463594</td>\n",
       "      <td>2.433339</td>\n",
       "      <td>1.427339</td>\n",
       "      <td>0.856964</td>\n",
       "      <td>1.206300</td>\n",
       "      <td>2.086360</td>\n",
       "      <td>2.569948</td>\n",
       "      <td>5.237522</td>\n",
       "      <td>1.846450</td>\n",
       "      <td>3.043820</td>\n",
       "      <td>...</td>\n",
       "      <td>1.177911</td>\n",
       "      <td>2.161246</td>\n",
       "      <td>2.291337</td>\n",
       "      <td>0.700499</td>\n",
       "      <td>1.173518</td>\n",
       "      <td>2.019942</td>\n",
       "      <td>3.720285</td>\n",
       "      <td>3.280755</td>\n",
       "      <td>3.153566</td>\n",
       "      <td>2.032519</td>\n",
       "    </tr>\n",
       "  </tbody>\n",
       "</table>\n",
       "<p>7561 rows × 500 columns</p>\n",
       "</div>"
      ],
      "text/plain": [
       "           0         1         2         3         4         5         6    \\\n",
       "0     1.000000  1.000000  1.000000  1.000000  1.000000  1.000000  1.000000   \n",
       "1     1.007829  1.004573  0.988995  1.003238  1.002004  1.002296  0.990685   \n",
       "2     1.008944  0.996267  1.004305  0.991074  0.984280  1.002679  0.995478   \n",
       "3     1.021429  0.990673  1.002297  0.981766  0.989506  1.001416  0.999782   \n",
       "4     1.009234  0.992271  1.004323  0.972925  0.975432  0.998040  0.991925   \n",
       "...        ...       ...       ...       ...       ...       ...       ...   \n",
       "7556  2.430342  2.370957  1.466331  0.853172  1.206585  2.069067  2.587640   \n",
       "7557  2.457878  2.365960  1.481478  0.848702  1.205688  2.080777  2.574592   \n",
       "7558  2.442017  2.393048  1.467663  0.849560  1.210403  2.078758  2.598689   \n",
       "7559  2.479733  2.421768  1.439911  0.848366  1.209273  2.093079  2.607645   \n",
       "7560  2.463594  2.433339  1.427339  0.856964  1.206300  2.086360  2.569948   \n",
       "\n",
       "           7         8         9    ...       490       491       492  \\\n",
       "0     1.000000  1.000000  1.000000  ...  1.000000  1.000000  1.000000   \n",
       "1     0.999086  0.998495  0.996241  ...  0.996691  0.984366  1.010290   \n",
       "2     1.001624  1.003332  0.995717  ...  0.992740  0.988250  1.007367   \n",
       "3     1.016815  1.004352  1.008579  ...  0.998647  0.983544  0.997491   \n",
       "4     1.021903  1.000375  1.010590  ...  1.007161  0.980547  0.988911   \n",
       "...        ...       ...       ...  ...       ...       ...       ...   \n",
       "7556  5.153337  1.851314  3.038045  ...  1.151332  2.112385  2.317428   \n",
       "7557  5.165788  1.841534  3.065529  ...  1.156024  2.131739  2.312346   \n",
       "7558  5.252169  1.848644  3.067377  ...  1.151932  2.131656  2.288505   \n",
       "7559  5.279088  1.851618  3.049458  ...  1.156430  2.150836  2.292299   \n",
       "7560  5.237522  1.846450  3.043820  ...  1.177911  2.161246  2.291337   \n",
       "\n",
       "           493       494       495       496       497       498       499  \n",
       "0     1.000000  1.000000  1.000000  1.000000  1.000000  1.000000  1.000000  \n",
       "1     0.995497  1.005188  0.999691  0.988522  0.997016  0.994866  0.986421  \n",
       "2     1.002189  1.005356  1.004007  0.984628  1.005543  0.992174  0.979882  \n",
       "3     1.006014  1.014113  1.003266  0.985911  1.007646  1.004266  0.980561  \n",
       "4     1.010626  1.019315  1.002891  0.986340  1.022443  1.006270  0.974393  \n",
       "...        ...       ...       ...       ...       ...       ...       ...  \n",
       "7556  0.707595  1.192407  1.999114  3.702650  3.307904  3.167058  2.026727  \n",
       "7557  0.711555  1.187500  1.991353  3.712799  3.302475  3.194869  2.014777  \n",
       "7558  0.711760  1.181499  2.011650  3.727275  3.324546  3.181204  2.020434  \n",
       "7559  0.709439  1.172732  2.015270  3.716772  3.287364  3.171866  2.030820  \n",
       "7560  0.700499  1.173518  2.019942  3.720285  3.280755  3.153566  2.032519  \n",
       "\n",
       "[7561 rows x 500 columns]"
      ]
     },
     "execution_count": 31,
     "metadata": {},
     "output_type": "execute_result"
    }
   ],
   "source": [
    "# Run the Monte Carlo simulation to forecast 30 years cumulative returns\n",
    "# YOUR CODE HERE\n",
    "mc_traditional.calc_cumulative_return()"
   ]
  },
  {
   "cell_type": "code",
   "execution_count": 32,
   "metadata": {},
   "outputs": [
    {
     "data": {
      "text/plain": [
       "<Axes: title={'center': '500 Simulations of Cumulative Portfolio Return Trajectories Over the Next 7560 Trading Days.'}>"
      ]
     },
     "execution_count": 32,
     "metadata": {},
     "output_type": "execute_result"
    },
    {
     "data": {
      "image/png": "[encoded data removed]",
      "text/plain": [
       "<Figure size 640x480 with 1 Axes>"
      ]
     },
     "metadata": {},
     "output_type": "display_data"
    }
   ],
   "source": [
    "# Visualize the 30-year Monte Carlo simulation by creating an\n",
    "# overlay line plot\n",
    "# YOUR CODE HERE\n",
    "mc_traditional.plot_simulation()"
   ]
  },
  {
   "cell_type": "markdown",
   "metadata": {},
   "source": [
    "#### Step 3: Plot the probability distribution of the Monte Carlo simulation."
   ]
  },
  {
   "cell_type": "code",
   "execution_count": 33,
   "metadata": {},
   "outputs": [
    {
     "data": {
      "text/plain": [
       "<Axes: title={'center': 'Distribution of Final Cumuluative Returns Across All 500 Simulations'}, ylabel='Frequency'>"
      ]
     },
     "execution_count": 33,
     "metadata": {},
     "output_type": "execute_result"
    },
    {
     "data": {
      "image/png": "[encoded data removed]",
      "text/plain": [
       "<Figure size 640x480 with 1 Axes>"
      ]
     },
     "metadata": {},
     "output_type": "display_data"
    }
   ],
   "source": [
    "# Visualize the probability distribution of the 30-year Monte Carlo simulation \n",
    "# by plotting a histogram\n",
    "# YOUR CODE HERE\n",
    "mc_traditional.plot_distribution()"
   ]
  },
  {
   "cell_type": "markdown",
   "metadata": {},
   "source": [
    "#### Step 4: Generate the summary statistics for the Monte Carlo simulation."
   ]
  },
  {
   "cell_type": "code",
   "execution_count": 34,
   "metadata": {},
   "outputs": [
    {
     "data": {
      "text/plain": [
       "count           500.000000\n",
       "mean              2.684188\n",
       "std               1.759689\n",
       "min               0.408139\n",
       "25%               1.414612\n",
       "50%               2.184547\n",
       "75%               3.251378\n",
       "max              11.051516\n",
       "95% CI Lower      0.729410\n",
       "95% CI Upper      7.348243\n",
       "Name: 7560, dtype: float64"
      ]
     },
     "execution_count": 34,
     "metadata": {},
     "output_type": "execute_result"
    }
   ],
   "source": [
    "# Generate summary statistics from the 30-year Monte Carlo simulation results\n",
    "# Save the results as a variable\n",
    "# YOUR CODE HERE\n",
    "mc_traditional_summary = mc_traditional.summarize_cumulative_return()\n",
    "\n",
    "# Review the 30-year Monte Carlo summary statistics\n",
    "# YOUR CODE HERE\n",
    "mc_traditional_summary"
   ]
  },
  {
   "cell_type": "markdown",
   "metadata": {},
   "source": [
    "### Analyze the Retirement Portfolio Forecasts\n",
    "\n",
    "Using the current value of only the stock and bond portion of the member's portfolio and the summary statistics that you generated from the Monte Carlo simulation, answer the following question in your Jupyter notebook:\n",
    "\n",
    "-  What are the lower and upper bounds for the expected value of the portfolio with a 95% confidence interval?\n"
   ]
  },
  {
   "cell_type": "code",
   "execution_count": 35,
   "metadata": {},
   "outputs": [
    {
     "data": {
      "text/plain": [
       "67139.0"
      ]
     },
     "execution_count": 35,
     "metadata": {},
     "output_type": "execute_result"
    }
   ],
   "source": [
    "# Print the current balance of the stock and bond portion of the members portfolio\n",
    "# YOUR CODE HERE\n",
    "total_stocks_bonds"
   ]
  },
  {
   "cell_type": "code",
   "execution_count": 36,
   "metadata": {},
   "outputs": [
    {
     "name": "stdout",
     "output_type": "stream",
     "text": [
      "There is a 95% chance that current  67139.00 of stock/bond in the portfolio with a 60% weight in SPY and 40%  weight in AGG over the next 30 years will end within in the range of $ 48971.83 and $ 493353.70.\n"
     ]
    }
   ],
   "source": [
    "# Use the lower and upper `95%` confidence intervals to calculate the range of the possible outcomes for the current stock/bond portfolio\n",
    "ci_lower_thirty_cumulative_return = total_stocks_bonds * mc_traditional_summary[8]\n",
    "ci_upper_thirty_cumulative_return = total_stocks_bonds * mc_traditional_summary[9]\n",
    "\n",
    "# Print the result of your calculations\n",
    "# YOUR CODE HERE\n",
    "print(f\"There is a 95% chance that current {total_stocks_bonds: .02f} of stock/bond in the portfolio\"\n",
    "      f\" with a 60% weight in SPY and 40%  weight in AGG over the next 30 years will end within in the range of\"\n",
    "      f\" ${ci_lower_thirty_cumulative_return: .02f} and ${ci_upper_thirty_cumulative_return: .02f}.\")"
   ]
  },
  {
   "cell_type": "markdown",
   "metadata": {},
   "source": [
    "### Forecast Cumulative Returns in 10 Years\n",
    "\n",
    "The CTO of the credit union is impressed with your work on these planning tools but wonders if 30 years is a long time to wait until retirement. So, your next task is to adjust the retirement portfolio and run a new Monte Carlo simulation to find out if the changes will allow members to retire earlier.\n",
    "\n",
    "For this new Monte Carlo simulation, do the following: \n",
    "\n",
    "- Forecast the cumulative returns for 10 years from now. Because of the shortened investment horizon (30 years to 10 years), the portfolio needs to invest more heavily in the riskier asset&mdash;that is, stock&mdash;to help accumulate wealth for retirement. \n",
    "\n",
    "- Adjust the weights of the retirement portfolio so that the composition for the Monte Carlo simulation consists of 20% bonds and 80% stocks. \n",
    "\n",
    "- Run the simulation over 500 samples, and use the same data that the API call to Alpaca generated.\n",
    "\n",
    "- Based on the new Monte Carlo simulation, answer the following questions in your Jupyter notebook:\n",
    "\n",
    "    - Using the current value of only the stock and bond portion of the member's portfolio and the summary statistics that you generated from the new Monte Carlo simulation, what are the lower and upper bounds for the expected value of the portfolio (with the new weights) with a 95% confidence interval?\n",
    "\n",
    "    - Will weighting the portfolio more heavily toward stocks allow the credit union members to retire after only 10 years?\n"
   ]
  },
  {
   "cell_type": "code",
   "execution_count": 37,
   "metadata": {},
   "outputs": [
    {
     "data": {
      "text/html": [
       "<div>\n",
       "<style scoped>\n",
       "    .dataframe tbody tr th:only-of-type {\n",
       "        vertical-align: middle;\n",
       "    }\n",
       "\n",
       "    .dataframe tbody tr th {\n",
       "        vertical-align: top;\n",
       "    }\n",
       "\n",
       "    .dataframe thead tr th {\n",
       "        text-align: left;\n",
       "    }\n",
       "\n",
       "    .dataframe thead tr:last-of-type th {\n",
       "        text-align: right;\n",
       "    }\n",
       "</style>\n",
       "<table border=\"1\" class=\"dataframe\">\n",
       "  <thead>\n",
       "    <tr>\n",
       "      <th></th>\n",
       "      <th colspan=\"8\" halign=\"left\">SPY</th>\n",
       "      <th colspan=\"8\" halign=\"left\">AGG</th>\n",
       "    </tr>\n",
       "    <tr>\n",
       "      <th></th>\n",
       "      <th>open</th>\n",
       "      <th>high</th>\n",
       "      <th>low</th>\n",
       "      <th>close</th>\n",
       "      <th>volume</th>\n",
       "      <th>trade_count</th>\n",
       "      <th>vwap</th>\n",
       "      <th>daily_return</th>\n",
       "      <th>open</th>\n",
       "      <th>high</th>\n",
       "      <th>low</th>\n",
       "      <th>close</th>\n",
       "      <th>volume</th>\n",
       "      <th>trade_count</th>\n",
       "      <th>vwap</th>\n",
       "      <th>daily_return</th>\n",
       "    </tr>\n",
       "    <tr>\n",
       "      <th>timestamp</th>\n",
       "      <th></th>\n",
       "      <th></th>\n",
       "      <th></th>\n",
       "      <th></th>\n",
       "      <th></th>\n",
       "      <th></th>\n",
       "      <th></th>\n",
       "      <th></th>\n",
       "      <th></th>\n",
       "      <th></th>\n",
       "      <th></th>\n",
       "      <th></th>\n",
       "      <th></th>\n",
       "      <th></th>\n",
       "      <th></th>\n",
       "      <th></th>\n",
       "    </tr>\n",
       "  </thead>\n",
       "  <tbody>\n",
       "    <tr>\n",
       "      <th>2020-08-18 04:00:00+00:00</th>\n",
       "      <td>338.34</td>\n",
       "      <td>339.10</td>\n",
       "      <td>336.6100</td>\n",
       "      <td>338.595</td>\n",
       "      <td>38729908</td>\n",
       "      <td>213168</td>\n",
       "      <td>338.322479</td>\n",
       "      <td>NaN</td>\n",
       "      <td>118.4279</td>\n",
       "      <td>118.60</td>\n",
       "      <td>118.42</td>\n",
       "      <td>118.53</td>\n",
       "      <td>4765813</td>\n",
       "      <td>14791</td>\n",
       "      <td>118.531748</td>\n",
       "      <td>NaN</td>\n",
       "    </tr>\n",
       "    <tr>\n",
       "      <th>2020-08-19 04:00:00+00:00</th>\n",
       "      <td>339.05</td>\n",
       "      <td>339.61</td>\n",
       "      <td>336.6200</td>\n",
       "      <td>337.130</td>\n",
       "      <td>68054355</td>\n",
       "      <td>321017</td>\n",
       "      <td>338.207759</td>\n",
       "      <td>-0.004327</td>\n",
       "      <td>118.6500</td>\n",
       "      <td>118.70</td>\n",
       "      <td>118.34</td>\n",
       "      <td>118.35</td>\n",
       "      <td>4540992</td>\n",
       "      <td>14358</td>\n",
       "      <td>118.517708</td>\n",
       "      <td>-0.001519</td>\n",
       "    </tr>\n",
       "    <tr>\n",
       "      <th>2020-08-20 04:00:00+00:00</th>\n",
       "      <td>335.36</td>\n",
       "      <td>338.80</td>\n",
       "      <td>335.2200</td>\n",
       "      <td>338.310</td>\n",
       "      <td>42207826</td>\n",
       "      <td>271504</td>\n",
       "      <td>337.483134</td>\n",
       "      <td>0.003500</td>\n",
       "      <td>118.5800</td>\n",
       "      <td>118.71</td>\n",
       "      <td>118.56</td>\n",
       "      <td>118.56</td>\n",
       "      <td>4487506</td>\n",
       "      <td>13490</td>\n",
       "      <td>118.608076</td>\n",
       "      <td>0.001774</td>\n",
       "    </tr>\n",
       "    <tr>\n",
       "      <th>2020-08-21 04:00:00+00:00</th>\n",
       "      <td>337.92</td>\n",
       "      <td>339.72</td>\n",
       "      <td>337.5500</td>\n",
       "      <td>339.450</td>\n",
       "      <td>55106628</td>\n",
       "      <td>270817</td>\n",
       "      <td>338.773083</td>\n",
       "      <td>0.003370</td>\n",
       "      <td>118.7400</td>\n",
       "      <td>118.76</td>\n",
       "      <td>118.55</td>\n",
       "      <td>118.68</td>\n",
       "      <td>6373275</td>\n",
       "      <td>13830</td>\n",
       "      <td>118.668349</td>\n",
       "      <td>0.001012</td>\n",
       "    </tr>\n",
       "    <tr>\n",
       "      <th>2020-08-24 04:00:00+00:00</th>\n",
       "      <td>342.12</td>\n",
       "      <td>343.00</td>\n",
       "      <td>339.4504</td>\n",
       "      <td>342.900</td>\n",
       "      <td>48588662</td>\n",
       "      <td>278775</td>\n",
       "      <td>341.935714</td>\n",
       "      <td>0.010163</td>\n",
       "      <td>118.7200</td>\n",
       "      <td>118.82</td>\n",
       "      <td>118.60</td>\n",
       "      <td>118.63</td>\n",
       "      <td>4620863</td>\n",
       "      <td>17999</td>\n",
       "      <td>118.670385</td>\n",
       "      <td>-0.000421</td>\n",
       "    </tr>\n",
       "  </tbody>\n",
       "</table>\n",
       "</div>"
      ],
      "text/plain": [
       "                              SPY                                       \\\n",
       "                             open    high       low    close    volume   \n",
       "timestamp                                                                \n",
       "2020-08-18 04:00:00+00:00  338.34  339.10  336.6100  338.595  38729908   \n",
       "2020-08-19 04:00:00+00:00  339.05  339.61  336.6200  337.130  68054355   \n",
       "2020-08-20 04:00:00+00:00  335.36  338.80  335.2200  338.310  42207826   \n",
       "2020-08-21 04:00:00+00:00  337.92  339.72  337.5500  339.450  55106628   \n",
       "2020-08-24 04:00:00+00:00  342.12  343.00  339.4504  342.900  48588662   \n",
       "\n",
       "                                                                     AGG  \\\n",
       "                          trade_count        vwap daily_return      open   \n",
       "timestamp                                                                  \n",
       "2020-08-18 04:00:00+00:00      213168  338.322479          NaN  118.4279   \n",
       "2020-08-19 04:00:00+00:00      321017  338.207759    -0.004327  118.6500   \n",
       "2020-08-20 04:00:00+00:00      271504  337.483134     0.003500  118.5800   \n",
       "2020-08-21 04:00:00+00:00      270817  338.773083     0.003370  118.7400   \n",
       "2020-08-24 04:00:00+00:00      278775  341.935714     0.010163  118.7200   \n",
       "\n",
       "                                                                        \\\n",
       "                             high     low   close   volume trade_count   \n",
       "timestamp                                                                \n",
       "2020-08-18 04:00:00+00:00  118.60  118.42  118.53  4765813       14791   \n",
       "2020-08-19 04:00:00+00:00  118.70  118.34  118.35  4540992       14358   \n",
       "2020-08-20 04:00:00+00:00  118.71  118.56  118.56  4487506       13490   \n",
       "2020-08-21 04:00:00+00:00  118.76  118.55  118.68  6373275       13830   \n",
       "2020-08-24 04:00:00+00:00  118.82  118.60  118.63  4620863       17999   \n",
       "\n",
       "                                                    \n",
       "                                 vwap daily_return  \n",
       "timestamp                                           \n",
       "2020-08-18 04:00:00+00:00  118.531748          NaN  \n",
       "2020-08-19 04:00:00+00:00  118.517708    -0.001519  \n",
       "2020-08-20 04:00:00+00:00  118.608076     0.001774  \n",
       "2020-08-21 04:00:00+00:00  118.668349     0.001012  \n",
       "2020-08-24 04:00:00+00:00  118.670385    -0.000421  "
      ]
     },
     "execution_count": 37,
     "metadata": {},
     "output_type": "execute_result"
    }
   ],
   "source": [
    "# Configure a Monte Carlo simulation to forecast 10 years cumulative returns\n",
    "# The weights should be split 20% to AGG and 80% to SPY.\n",
    "# Run 500 samples.\n",
    "# YOUR CODE HERE\n",
    "mc_short = MCSimulation(\n",
    "    portfolio_data=prices_mc,\n",
    "    weights = [.80, .20],\n",
    "    num_simulation= 500,\n",
    "    num_trading_days= 252*10)\n",
    "# Review the simulation input data\n",
    "# YOUR CODE HERE\n",
    "mc_short.portfolio_data.head()"
   ]
  },
  {
   "cell_type": "code",
   "execution_count": 38,
   "metadata": {},
   "outputs": [
    {
     "name": "stdout",
     "output_type": "stream",
     "text": [
      "Running Monte Carlo simulation number 0.\n",
      "Running Monte Carlo simulation number 10.\n",
      "Running Monte Carlo simulation number 20.\n",
      "Running Monte Carlo simulation number 30.\n",
      "Running Monte Carlo simulation number 40.\n",
      "Running Monte Carlo simulation number 50.\n",
      "Running Monte Carlo simulation number 60.\n",
      "Running Monte Carlo simulation number 70.\n",
      "Running Monte Carlo simulation number 80.\n",
      "Running Monte Carlo simulation number 90.\n",
      "Running Monte Carlo simulation number 100.\n",
      "Running Monte Carlo simulation number 110.\n",
      "Running Monte Carlo simulation number 120.\n",
      "Running Monte Carlo simulation number 130.\n",
      "Running Monte Carlo simulation number 140.\n",
      "Running Monte Carlo simulation number 150.\n",
      "Running Monte Carlo simulation number 160.\n",
      "Running Monte Carlo simulation number 170.\n",
      "Running Monte Carlo simulation number 180.\n",
      "Running Monte Carlo simulation number 190.\n",
      "Running Monte Carlo simulation number 200.\n",
      "Running Monte Carlo simulation number 210.\n",
      "Running Monte Carlo simulation number 220.\n",
      "Running Monte Carlo simulation number 230.\n",
      "Running Monte Carlo simulation number 240.\n",
      "Running Monte Carlo simulation number 250.\n",
      "Running Monte Carlo simulation number 260.\n",
      "Running Monte Carlo simulation number 270.\n",
      "Running Monte Carlo simulation number 280.\n",
      "Running Monte Carlo simulation number 290.\n",
      "Running Monte Carlo simulation number 300.\n",
      "Running Monte Carlo simulation number 310.\n",
      "Running Monte Carlo simulation number 320.\n",
      "Running Monte Carlo simulation number 330.\n",
      "Running Monte Carlo simulation number 340.\n",
      "Running Monte Carlo simulation number 350.\n",
      "Running Monte Carlo simulation number 360.\n",
      "Running Monte Carlo simulation number 370.\n",
      "Running Monte Carlo simulation number 380.\n",
      "Running Monte Carlo simulation number 390.\n",
      "Running Monte Carlo simulation number 400.\n",
      "Running Monte Carlo simulation number 410.\n",
      "Running Monte Carlo simulation number 420.\n",
      "Running Monte Carlo simulation number 430.\n",
      "Running Monte Carlo simulation number 440.\n",
      "Running Monte Carlo simulation number 450.\n",
      "Running Monte Carlo simulation number 460.\n",
      "Running Monte Carlo simulation number 470.\n",
      "Running Monte Carlo simulation number 480.\n",
      "Running Monte Carlo simulation number 490.\n"
     ]
    },
    {
     "data": {
      "text/html": [
       "<div>\n",
       "<style scoped>\n",
       "    .dataframe tbody tr th:only-of-type {\n",
       "        vertical-align: middle;\n",
       "    }\n",
       "\n",
       "    .dataframe tbody tr th {\n",
       "        vertical-align: top;\n",
       "    }\n",
       "\n",
       "    .dataframe thead th {\n",
       "        text-align: right;\n",
       "    }\n",
       "</style>\n",
       "<table border=\"1\" class=\"dataframe\">\n",
       "  <thead>\n",
       "    <tr style=\"text-align: right;\">\n",
       "      <th></th>\n",
       "      <th>0</th>\n",
       "      <th>1</th>\n",
       "      <th>2</th>\n",
       "      <th>3</th>\n",
       "      <th>4</th>\n",
       "      <th>5</th>\n",
       "      <th>6</th>\n",
       "      <th>7</th>\n",
       "      <th>8</th>\n",
       "      <th>9</th>\n",
       "      <th>...</th>\n",
       "      <th>490</th>\n",
       "      <th>491</th>\n",
       "      <th>492</th>\n",
       "      <th>493</th>\n",
       "      <th>494</th>\n",
       "      <th>495</th>\n",
       "      <th>496</th>\n",
       "      <th>497</th>\n",
       "      <th>498</th>\n",
       "      <th>499</th>\n",
       "    </tr>\n",
       "  </thead>\n",
       "  <tbody>\n",
       "    <tr>\n",
       "      <th>0</th>\n",
       "      <td>1.000000</td>\n",
       "      <td>1.000000</td>\n",
       "      <td>1.000000</td>\n",
       "      <td>1.000000</td>\n",
       "      <td>1.000000</td>\n",
       "      <td>1.000000</td>\n",
       "      <td>1.000000</td>\n",
       "      <td>1.000000</td>\n",
       "      <td>1.000000</td>\n",
       "      <td>1.000000</td>\n",
       "      <td>...</td>\n",
       "      <td>1.000000</td>\n",
       "      <td>1.000000</td>\n",
       "      <td>1.000000</td>\n",
       "      <td>1.000000</td>\n",
       "      <td>1.000000</td>\n",
       "      <td>1.000000</td>\n",
       "      <td>1.000000</td>\n",
       "      <td>1.000000</td>\n",
       "      <td>1.000000</td>\n",
       "      <td>1.000000</td>\n",
       "    </tr>\n",
       "    <tr>\n",
       "      <th>1</th>\n",
       "      <td>0.999160</td>\n",
       "      <td>0.999005</td>\n",
       "      <td>0.988888</td>\n",
       "      <td>1.006192</td>\n",
       "      <td>0.999461</td>\n",
       "      <td>1.001581</td>\n",
       "      <td>1.007118</td>\n",
       "      <td>1.013421</td>\n",
       "      <td>1.001101</td>\n",
       "      <td>0.988404</td>\n",
       "      <td>...</td>\n",
       "      <td>0.989501</td>\n",
       "      <td>1.005426</td>\n",
       "      <td>1.018734</td>\n",
       "      <td>1.011419</td>\n",
       "      <td>0.997174</td>\n",
       "      <td>1.000192</td>\n",
       "      <td>1.008263</td>\n",
       "      <td>0.996327</td>\n",
       "      <td>1.010110</td>\n",
       "      <td>1.005090</td>\n",
       "    </tr>\n",
       "    <tr>\n",
       "      <th>2</th>\n",
       "      <td>1.000895</td>\n",
       "      <td>1.004970</td>\n",
       "      <td>0.993608</td>\n",
       "      <td>1.012751</td>\n",
       "      <td>0.998208</td>\n",
       "      <td>0.981365</td>\n",
       "      <td>1.021327</td>\n",
       "      <td>1.014194</td>\n",
       "      <td>1.001754</td>\n",
       "      <td>0.973105</td>\n",
       "      <td>...</td>\n",
       "      <td>0.993217</td>\n",
       "      <td>1.004680</td>\n",
       "      <td>1.012709</td>\n",
       "      <td>1.011483</td>\n",
       "      <td>1.003020</td>\n",
       "      <td>1.008733</td>\n",
       "      <td>1.023262</td>\n",
       "      <td>1.017254</td>\n",
       "      <td>1.004254</td>\n",
       "      <td>1.013394</td>\n",
       "    </tr>\n",
       "    <tr>\n",
       "      <th>3</th>\n",
       "      <td>1.009926</td>\n",
       "      <td>1.011358</td>\n",
       "      <td>0.989745</td>\n",
       "      <td>1.012520</td>\n",
       "      <td>0.989517</td>\n",
       "      <td>0.974948</td>\n",
       "      <td>1.017031</td>\n",
       "      <td>1.014539</td>\n",
       "      <td>0.978605</td>\n",
       "      <td>0.976762</td>\n",
       "      <td>...</td>\n",
       "      <td>0.976453</td>\n",
       "      <td>1.018062</td>\n",
       "      <td>1.030678</td>\n",
       "      <td>1.009311</td>\n",
       "      <td>1.011505</td>\n",
       "      <td>1.000455</td>\n",
       "      <td>1.018699</td>\n",
       "      <td>1.022448</td>\n",
       "      <td>0.995564</td>\n",
       "      <td>1.010910</td>\n",
       "    </tr>\n",
       "    <tr>\n",
       "      <th>4</th>\n",
       "      <td>1.013948</td>\n",
       "      <td>1.014781</td>\n",
       "      <td>0.987218</td>\n",
       "      <td>1.027079</td>\n",
       "      <td>0.979268</td>\n",
       "      <td>0.998540</td>\n",
       "      <td>1.010796</td>\n",
       "      <td>1.013948</td>\n",
       "      <td>0.987535</td>\n",
       "      <td>0.975361</td>\n",
       "      <td>...</td>\n",
       "      <td>0.982609</td>\n",
       "      <td>1.019964</td>\n",
       "      <td>1.040362</td>\n",
       "      <td>1.018898</td>\n",
       "      <td>1.030495</td>\n",
       "      <td>0.995209</td>\n",
       "      <td>1.015827</td>\n",
       "      <td>1.031088</td>\n",
       "      <td>0.989537</td>\n",
       "      <td>1.020525</td>\n",
       "    </tr>\n",
       "    <tr>\n",
       "      <th>...</th>\n",
       "      <td>...</td>\n",
       "      <td>...</td>\n",
       "      <td>...</td>\n",
       "      <td>...</td>\n",
       "      <td>...</td>\n",
       "      <td>...</td>\n",
       "      <td>...</td>\n",
       "      <td>...</td>\n",
       "      <td>...</td>\n",
       "      <td>...</td>\n",
       "      <td>...</td>\n",
       "      <td>...</td>\n",
       "      <td>...</td>\n",
       "      <td>...</td>\n",
       "      <td>...</td>\n",
       "      <td>...</td>\n",
       "      <td>...</td>\n",
       "      <td>...</td>\n",
       "      <td>...</td>\n",
       "      <td>...</td>\n",
       "      <td>...</td>\n",
       "    </tr>\n",
       "    <tr>\n",
       "      <th>2516</th>\n",
       "      <td>3.333352</td>\n",
       "      <td>1.949646</td>\n",
       "      <td>1.493917</td>\n",
       "      <td>4.535104</td>\n",
       "      <td>1.649862</td>\n",
       "      <td>0.894120</td>\n",
       "      <td>1.571460</td>\n",
       "      <td>2.478750</td>\n",
       "      <td>1.239246</td>\n",
       "      <td>1.114146</td>\n",
       "      <td>...</td>\n",
       "      <td>3.446664</td>\n",
       "      <td>0.615864</td>\n",
       "      <td>1.950334</td>\n",
       "      <td>1.380687</td>\n",
       "      <td>1.570910</td>\n",
       "      <td>1.681874</td>\n",
       "      <td>2.285054</td>\n",
       "      <td>0.875211</td>\n",
       "      <td>1.394344</td>\n",
       "      <td>1.526763</td>\n",
       "    </tr>\n",
       "    <tr>\n",
       "      <th>2517</th>\n",
       "      <td>3.378821</td>\n",
       "      <td>1.926037</td>\n",
       "      <td>1.501335</td>\n",
       "      <td>4.580218</td>\n",
       "      <td>1.671712</td>\n",
       "      <td>0.903839</td>\n",
       "      <td>1.584856</td>\n",
       "      <td>2.482796</td>\n",
       "      <td>1.215973</td>\n",
       "      <td>1.119593</td>\n",
       "      <td>...</td>\n",
       "      <td>3.449751</td>\n",
       "      <td>0.612239</td>\n",
       "      <td>1.963847</td>\n",
       "      <td>1.385582</td>\n",
       "      <td>1.576114</td>\n",
       "      <td>1.707227</td>\n",
       "      <td>2.263500</td>\n",
       "      <td>0.866781</td>\n",
       "      <td>1.371714</td>\n",
       "      <td>1.510944</td>\n",
       "    </tr>\n",
       "    <tr>\n",
       "      <th>2518</th>\n",
       "      <td>3.343962</td>\n",
       "      <td>1.934978</td>\n",
       "      <td>1.503628</td>\n",
       "      <td>4.635975</td>\n",
       "      <td>1.703477</td>\n",
       "      <td>0.899571</td>\n",
       "      <td>1.583845</td>\n",
       "      <td>2.466322</td>\n",
       "      <td>1.224146</td>\n",
       "      <td>1.120132</td>\n",
       "      <td>...</td>\n",
       "      <td>3.454991</td>\n",
       "      <td>0.614722</td>\n",
       "      <td>1.958038</td>\n",
       "      <td>1.392399</td>\n",
       "      <td>1.579638</td>\n",
       "      <td>1.735546</td>\n",
       "      <td>2.236456</td>\n",
       "      <td>0.850594</td>\n",
       "      <td>1.370485</td>\n",
       "      <td>1.521196</td>\n",
       "    </tr>\n",
       "    <tr>\n",
       "      <th>2519</th>\n",
       "      <td>3.346262</td>\n",
       "      <td>1.938243</td>\n",
       "      <td>1.483696</td>\n",
       "      <td>4.701890</td>\n",
       "      <td>1.677711</td>\n",
       "      <td>0.899762</td>\n",
       "      <td>1.573098</td>\n",
       "      <td>2.444213</td>\n",
       "      <td>1.219070</td>\n",
       "      <td>1.116607</td>\n",
       "      <td>...</td>\n",
       "      <td>3.477983</td>\n",
       "      <td>0.618514</td>\n",
       "      <td>1.932645</td>\n",
       "      <td>1.379712</td>\n",
       "      <td>1.584735</td>\n",
       "      <td>1.754624</td>\n",
       "      <td>2.271122</td>\n",
       "      <td>0.854762</td>\n",
       "      <td>1.345968</td>\n",
       "      <td>1.527458</td>\n",
       "    </tr>\n",
       "    <tr>\n",
       "      <th>2520</th>\n",
       "      <td>3.360381</td>\n",
       "      <td>1.924193</td>\n",
       "      <td>1.481426</td>\n",
       "      <td>4.716551</td>\n",
       "      <td>1.660292</td>\n",
       "      <td>0.913705</td>\n",
       "      <td>1.582654</td>\n",
       "      <td>2.418842</td>\n",
       "      <td>1.233513</td>\n",
       "      <td>1.116212</td>\n",
       "      <td>...</td>\n",
       "      <td>3.483624</td>\n",
       "      <td>0.623047</td>\n",
       "      <td>1.916615</td>\n",
       "      <td>1.380838</td>\n",
       "      <td>1.598775</td>\n",
       "      <td>1.758303</td>\n",
       "      <td>2.245890</td>\n",
       "      <td>0.847759</td>\n",
       "      <td>1.335746</td>\n",
       "      <td>1.520818</td>\n",
       "    </tr>\n",
       "  </tbody>\n",
       "</table>\n",
       "<p>2521 rows × 500 columns</p>\n",
       "</div>"
      ],
      "text/plain": [
       "           0         1         2         3         4         5         6    \\\n",
       "0     1.000000  1.000000  1.000000  1.000000  1.000000  1.000000  1.000000   \n",
       "1     0.999160  0.999005  0.988888  1.006192  0.999461  1.001581  1.007118   \n",
       "2     1.000895  1.004970  0.993608  1.012751  0.998208  0.981365  1.021327   \n",
       "3     1.009926  1.011358  0.989745  1.012520  0.989517  0.974948  1.017031   \n",
       "4     1.013948  1.014781  0.987218  1.027079  0.979268  0.998540  1.010796   \n",
       "...        ...       ...       ...       ...       ...       ...       ...   \n",
       "2516  3.333352  1.949646  1.493917  4.535104  1.649862  0.894120  1.571460   \n",
       "2517  3.378821  1.926037  1.501335  4.580218  1.671712  0.903839  1.584856   \n",
       "2518  3.343962  1.934978  1.503628  4.635975  1.703477  0.899571  1.583845   \n",
       "2519  3.346262  1.938243  1.483696  4.701890  1.677711  0.899762  1.573098   \n",
       "2520  3.360381  1.924193  1.481426  4.716551  1.660292  0.913705  1.582654   \n",
       "\n",
       "           7         8         9    ...       490       491       492  \\\n",
       "0     1.000000  1.000000  1.000000  ...  1.000000  1.000000  1.000000   \n",
       "1     1.013421  1.001101  0.988404  ...  0.989501  1.005426  1.018734   \n",
       "2     1.014194  1.001754  0.973105  ...  0.993217  1.004680  1.012709   \n",
       "3     1.014539  0.978605  0.976762  ...  0.976453  1.018062  1.030678   \n",
       "4     1.013948  0.987535  0.975361  ...  0.982609  1.019964  1.040362   \n",
       "...        ...       ...       ...  ...       ...       ...       ...   \n",
       "2516  2.478750  1.239246  1.114146  ...  3.446664  0.615864  1.950334   \n",
       "2517  2.482796  1.215973  1.119593  ...  3.449751  0.612239  1.963847   \n",
       "2518  2.466322  1.224146  1.120132  ...  3.454991  0.614722  1.958038   \n",
       "2519  2.444213  1.219070  1.116607  ...  3.477983  0.618514  1.932645   \n",
       "2520  2.418842  1.233513  1.116212  ...  3.483624  0.623047  1.916615   \n",
       "\n",
       "           493       494       495       496       497       498       499  \n",
       "0     1.000000  1.000000  1.000000  1.000000  1.000000  1.000000  1.000000  \n",
       "1     1.011419  0.997174  1.000192  1.008263  0.996327  1.010110  1.005090  \n",
       "2     1.011483  1.003020  1.008733  1.023262  1.017254  1.004254  1.013394  \n",
       "3     1.009311  1.011505  1.000455  1.018699  1.022448  0.995564  1.010910  \n",
       "4     1.018898  1.030495  0.995209  1.015827  1.031088  0.989537  1.020525  \n",
       "...        ...       ...       ...       ...       ...       ...       ...  \n",
       "2516  1.380687  1.570910  1.681874  2.285054  0.875211  1.394344  1.526763  \n",
       "2517  1.385582  1.576114  1.707227  2.263500  0.866781  1.371714  1.510944  \n",
       "2518  1.392399  1.579638  1.735546  2.236456  0.850594  1.370485  1.521196  \n",
       "2519  1.379712  1.584735  1.754624  2.271122  0.854762  1.345968  1.527458  \n",
       "2520  1.380838  1.598775  1.758303  2.245890  0.847759  1.335746  1.520818  \n",
       "\n",
       "[2521 rows x 500 columns]"
      ]
     },
     "execution_count": 38,
     "metadata": {},
     "output_type": "execute_result"
    }
   ],
   "source": [
    "# Run the Monte Carlo simulation to forecast 10 years cumulative returns\n",
    "# YOUR CODE HERE\n",
    "mc_short.calc_cumulative_return()"
   ]
  },
  {
   "cell_type": "code",
   "execution_count": 39,
   "metadata": {},
   "outputs": [
    {
     "data": {
      "text/plain": [
       "<Axes: title={'center': '500 Simulations of Cumulative Portfolio Return Trajectories Over the Next 2520 Trading Days.'}>"
      ]
     },
     "execution_count": 39,
     "metadata": {},
     "output_type": "execute_result"
    },
    {
     "data": {
      "image/png": "[encoded data removed]",
      "text/plain": [
       "<Figure size 640x480 with 1 Axes>"
      ]
     },
     "metadata": {},
     "output_type": "display_data"
    }
   ],
   "source": [
    "# Visualize the 10-year Monte Carlo simulation by creating an\n",
    "# overlay line plot\n",
    "# YOUR CODE HERE\n",
    "mc_short.plot_simulation()"
   ]
  },
  {
   "cell_type": "code",
   "execution_count": 40,
   "metadata": {},
   "outputs": [
    {
     "data": {
      "text/plain": [
       "<Axes: title={'center': 'Distribution of Final Cumuluative Returns Across All 500 Simulations'}, ylabel='Frequency'>"
      ]
     },
     "execution_count": 40,
     "metadata": {},
     "output_type": "execute_result"
    },
    {
     "data": {
      "image/png": "[encoded data removed]",
      "text/plain": [
       "<Figure size 640x480 with 1 Axes>"
      ]
     },
     "metadata": {},
     "output_type": "display_data"
    }
   ],
   "source": [
    "# Visualize the probability distribution of the 10-year Monte Carlo simulation \n",
    "# by plotting a histogram\n",
    "# YOUR CODE HERE\n",
    "mc_short.plot_distribution()"
   ]
  },
  {
   "cell_type": "code",
   "execution_count": 41,
   "metadata": {},
   "outputs": [
    {
     "data": {
      "text/plain": [
       "count           500.000000\n",
       "mean              1.901317\n",
       "std               0.904970\n",
       "min               0.421327\n",
       "25%               1.259098\n",
       "50%               1.680043\n",
       "75%               2.402093\n",
       "max               6.073561\n",
       "95% CI Lower      0.707184\n",
       "95% CI Upper      4.037434\n",
       "Name: 2520, dtype: float64"
      ]
     },
     "execution_count": 41,
     "metadata": {},
     "output_type": "execute_result"
    }
   ],
   "source": [
    "# Generate summary statistics from the 10-year Monte Carlo simulation results\n",
    "# Save the results as a variable\n",
    "# YOUR CODE HERE\n",
    "mc_short_summary = mc_short.summarize_cumulative_return()\n",
    "\n",
    "# Review the 10-year Monte Carlo summary statistics\n",
    "# YOUR CODE HERE\n",
    "mc_short_summary"
   ]
  },
  {
   "cell_type": "markdown",
   "metadata": {},
   "source": [
    "### Answer the following questions:"
   ]
  },
  {
   "cell_type": "markdown",
   "metadata": {},
   "source": [
    "#### Question: Using the current value of only the stock and bond portion of the member's portfolio and the summary statistics that you generated from the new Monte Carlo simulation, what are the lower and upper bounds for the expected value of the portfolio (with the new weights) with a 95% confidence interval?"
   ]
  },
  {
   "cell_type": "code",
   "execution_count": 42,
   "metadata": {},
   "outputs": [
    {
     "data": {
      "text/plain": [
       "67139.0"
      ]
     },
     "execution_count": 42,
     "metadata": {},
     "output_type": "execute_result"
    }
   ],
   "source": [
    "# Print the current balance of the stock and bond portion of the members portfolio\n",
    "# YOUR CODE HERE\n",
    "total_stocks_bonds"
   ]
  },
  {
   "cell_type": "code",
   "execution_count": 43,
   "metadata": {},
   "outputs": [
    {
     "name": "stdout",
     "output_type": "stream",
     "text": [
      "There is a 95% chance that current  67139.00 of stock/bond in the portfolio with a 80% weight in SPY and 20%  weight in AGG over the next 10 years will end within in the range of $ 47479.62 and $ 271069.28.\n"
     ]
    }
   ],
   "source": [
    "# Use the lower and upper `95%` confidence intervals to calculate the range of the possible outcomes for the current stock/bond portfolio\n",
    "ci_lower_ten_cumulative_return = total_stocks_bonds * mc_short_summary[8]\n",
    "ci_upper_ten_cumulative_return = total_stocks_bonds * mc_short_summary[9]\n",
    "\n",
    "# Print the result of your calculations\n",
    "# YOUR CODE HERE\n",
    "print(f\"There is a 95% chance that current {total_stocks_bonds: .02f} of stock/bond in the portfolio\"\n",
    "      f\" with a 80% weight in SPY and 20%  weight in AGG over the next 10 years will end within in the range of\"\n",
    "      f\" ${ci_lower_ten_cumulative_return: .02f} and ${ci_upper_ten_cumulative_return: .02f}.\")"
   ]
  },
  {
   "cell_type": "markdown",
   "metadata": {},
   "source": [
    "#### Question: Will weighting the portfolio more heavily to stocks allow the credit union members to retire after only 10 years?"
   ]
  },
  {
   "cell_type": "raw",
   "metadata": {},
   "source": [
    "It depends largely on the financial goals of the indidividual. However, it is safe to say that given that this individual has a lifestyle today based on $12,000 a month of income, even $270K (the upper bound of the 95% confidence interval) doesn't seem enough to maintain a similar lifestyle several years after retirement. The person might have to wait 30 years to allow his/her investments to compound further. They still might have to maintain a heavy weighting to stocks to accumulate enough savings to retire comfortably."
   ]
  },
  {
   "cell_type": "code",
   "execution_count": null,
   "metadata": {},
   "outputs": [],
   "source": []
  }
 ],
 "metadata": {
  "kernelspec": {
   "display_name": "dev",
   "language": "python",
   "name": "dev"
  },
  "language_info": {
   "codemirror_mode": {
    "name": "ipython",
    "version": 3
   },
   "file_extension": ".py",
   "mimetype": "text/x-python",
   "name": "python",
   "nbconvert_exporter": "python",
   "pygments_lexer": "ipython3",
   "version": "3.9.16"
  }
 },
 "nbformat": 4,
 "nbformat_minor": 4
}
